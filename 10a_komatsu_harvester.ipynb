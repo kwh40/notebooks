{
 "cells": [
  {
   "cell_type": "markdown",
   "metadata": {},
   "source": [
    "# HMI for the DZ Komatsu Harvester\n",
    "This is a KWH HMI which allows to send S3I-B GetValueRequest to request the data from the DT Komatsu harvester. Just run the following code to prepare and send your GetValueRequest to the harvester. "
   ]
  },
  {
   "cell_type": "code",
   "execution_count": null,
   "metadata": {},
   "outputs": [],
   "source": [
    "import s3i\n",
    "import uuid\n",
    "import getpass \n",
    "import collections\n",
    "import jwt \n",
    "import json\n",
    "import requests\n",
    "from tools import print_with_timestamp, check_message_encryption, yes, no"
   ]
  },
  {
   "cell_type": "code",
   "execution_count": null,
   "metadata": {},
   "outputs": [],
   "source": [
    "CLIENT_ID = \"s3i:da36496a-d2a8-411f-a01c-978e5e59d78a\"\n",
    "CLIENT_SECRET = \"452d9a83-baa5-47bd-a01e-b437bfbe08f6\"\n",
    "ENDPOINT = \"s3ib://s3i:da36496a-d2a8-411f-a01c-978e5e59d78a\"\n",
    "\n",
    "RECEIVER_ID = \"s3i:37883bba-3833-4364-9bd2-dd291913b0e9\"\n",
    "RECEIVER_ENDPOINT = \"s3ib://s3i:37883bba-3833-4364-9bd2-dd291913b0e9\"\n"
   ]
  },
  {
   "cell_type": "markdown",
   "metadata": {},
   "source": [
    "## Configure the notebook\n"
   ]
  },
  {
   "cell_type": "code",
   "execution_count": null,
   "metadata": {},
   "outputs": [],
   "source": [
    "print_with_timestamp(\"HMI for the komatsu harvester, please log in!\")\n",
    "username = input('[S3I]: Please enter your username:').strip(',\" ')\n",
    "password = getpass.getpass('[S3I]: Please enter the password:')\n",
    "print_with_timestamp(\"Your credentials are sent to S3I IdentityProvider.\")\n",
    "s3i_identity_provider = s3i.IdentityProvider(grant_type='password', \n",
    "                                             identity_provider_url=\"https://idp.s3i.vswf.dev/\",\n",
    "                                             realm='KWH',\n",
    "                                             client_id=CLIENT_ID,\n",
    "                                             client_secret=CLIENT_SECRET,\n",
    "                                             username=username,\n",
    "                                             password=password)\n",
    "access_token = s3i_identity_provider.get_token(s3i.TokenType.ACCESS_TOKEN)\n",
    "\n",
    "''' decode the access token\n",
    "'''\n",
    "parsed_username = jwt.decode(access_token, verify=False)[\n",
    "    \"preferred_username\"]\n",
    "\n",
    "print_with_timestamp(\"Token received, \" + parsed_username + \" logged in.\")"
   ]
  },
  {
   "cell_type": "markdown",
   "metadata": {},
   "source": [
    "## MessageID Storage"
   ]
  },
  {
   "cell_type": "code",
   "execution_count": null,
   "metadata": {},
   "outputs": [],
   "source": [
    "messageIds = list()"
   ]
  },
  {
   "cell_type": "markdown",
   "metadata": {},
   "source": [
    "## Prepare a S3I-B GetValueRequest"
   ]
  },
  {
   "cell_type": "code",
   "execution_count": null,
   "metadata": {},
   "outputs": [],
   "source": [
    "def prepare_get_req():\n",
    "    print_with_timestamp(\"Prepare the GetValueRequest.\")\n",
    "    attributePath = input(\n",
    "            '[S3I]: please enter the attribute path of the value you want to receive from the harvester. Examples: \\n<empty path, just press enter>  \\nattributes \\nattributes/features\\nattributes/features/ml40::Location\\nattributes/features/ml40::Location/longitude\\nattributes/features/ml40::Location/latitude\\n').strip(',\" ')\n",
    "\n",
    "    msg_uuid = \"s3i:\" + str(uuid.uuid4())\n",
    "\n",
    "    getReq = s3i.GetValueRequest()\n",
    "    getReq.fillGetValueRequest(senderUUID=CLIENT_ID, receiverUUIDs=[RECEIVER_ID], \n",
    "                                sender_endpoint=ENDPOINT,\n",
    "                                attributePath=attributePath, msgUUID=msg_uuid)\n",
    "    print_with_timestamp(\"GetValueRequest prepared:\")\n",
    "    print(json.dumps(getReq.msg, indent=2))\n",
    "    return getReq.msg"
   ]
  },
  {
   "cell_type": "markdown",
   "metadata": {},
   "source": [
    "# Prepare a S3I-B ServiceRequest"
   ]
  },
  {
   "cell_type": "code",
   "execution_count": null,
   "metadata": {},
   "outputs": [],
   "source": [
    "def prepare_ser_req():\n",
    "    print_with_timestamp(\"Prepare the ServiceRequest to query a value of StanForD2010 per XPath.\")\n",
    "    method = input(\"[S3I]: 1-> getValueByPath,  2-> countElementByPath\")\n",
    "    serviceType = \"\"\n",
    "    xpath = \"\"\n",
    "    while True:\n",
    "        if method == \"1\":\n",
    "            serviceType = \"ml40::GetXMLValue/getValueByPath\"\n",
    "            xpath = input(\"[S3I]: please enter a valid XPath to query a value of StanForD2010 Date, Emamples: \\nMachine/MachineHeadManufacturer\\nMachine/SpeciesGroupDefinition[1]/SpeciesGroupName\\nMachine/SpeciesGroupDefinition[2]/SpeciesGroupKey\")\n",
    "\n",
    "        elif method == \"2\":\n",
    "            serviceType = \"ml40::GetXMLValue/countElementByPath\"\n",
    "            xpath = input(\"[S3I]: please enter a valid XPath to count a element number, Example: \\nMachine/Stem/SpeciesGroupKey[.='94'] Anzahl an Fichte\\nMachine/Stem/SpeciesGroupKey[.='95'] Anzahl an Lärche\\nMachine/Stem/SpeciesGroupKey[.='96'] Anzahl an Kiefer\\nMachine/Stem/SpeciesGroupKey[.='97'] Anzahl an Buche\\nMachine/Stem/SingleTreeProcessedStem/Log Gesamtanzahl der Abschnitte\\nMachine/Stem/SingleTreeProcessedStem/Log/ProductKey[.='1268'] Anzahl der ABS-Abschnitte \\nMachine/Stem/SingleTreeProcessedStem/Log/ProductKey[.='1269'] Anzahl der Pallete-Abschnitte \\nMachine/Stem/SingleTreeProcessedStem/Log/ProductKey[.='1270'] Anzahl der IFK-Abschnitte \\nMachine/Stem/SingleTreeProcessedStem/Log/ProductKey[.='1271'] Anzahl der Langholz-Abschnitte\")\n",
    "        else:\n",
    "            continue\n",
    "        break\n",
    "        \n",
    "    msg_uuid = \"s3i:\" + str(uuid.uuid4())\n",
    "    serReq = s3i.ServiceRequest()\n",
    "    serReq.fillServiceRequest(senderUUID=CLIENT_ID, receiverUUIDs=[RECEIVER_ID],\n",
    "                             sender_endpoint=ENDPOINT, serviceType=serviceType,\n",
    "                             parameters={\"XPath\": xpath}, msgUUID=msg_uuid)\n",
    "    print_with_timestamp(\"ServiceRequest prepared:\")\n",
    "    print(json.dumps(serReq.msg, indent=2))\n",
    "    return serReq.msg "
   ]
  },
  {
   "cell_type": "markdown",
   "metadata": {},
   "source": [
    "## Define a function for sending S3I-B message per HTTP Rest"
   ]
  },
  {
   "cell_type": "code",
   "execution_count": null,
   "metadata": {},
   "outputs": [],
   "source": [
    "def send_msg(msg): \n",
    "    print_with_timestamp(\"Sending a S3I-B message to the DT komatsu harvester\")\n",
    "    access_token = s3i_identity_provider.get_token(s3i.TokenType.ACCESS_TOKEN)\n",
    "    headers = {'Content-Type': 'application/json', 'Authorization': 'Bearer ' + access_token}\n",
    "    messageIds.append(msg[\"identifier\"])\n",
    "\n",
    "    ''' send S3I-B message to S3I-Broker API\n",
    "    '''\n",
    "    response = requests.post(url=\"https://broker.s3i.vswf.dev/\"+RECEIVER_ENDPOINT,\n",
    "                                    data=json.dumps(msg), headers=headers)\n",
    "    print_with_timestamp(response.text)"
   ]
  },
  {
   "cell_type": "markdown",
   "metadata": {},
   "source": [
    "## Choose a type of message to be sent"
   ]
  },
  {
   "cell_type": "code",
   "execution_count": null,
   "metadata": {
    "scrolled": true
   },
   "outputs": [],
   "source": [
    "msg_choose = input(\"[S3I]: 1 -> S3I-B GetValueRequst, 2 -> S3I-B ServiceRequest\")\n",
    "while True:\n",
    "    if msg_choose == \"1\":\n",
    "        send_msg(prepare_get_req())\n",
    "    elif msg_choose == \"2\":\n",
    "        send_msg(prepare_ser_req())\n",
    "    else:\n",
    "        continue\n",
    "    break"
   ]
  },
  {
   "cell_type": "markdown",
   "metadata": {},
   "source": [
    "## Receive the response from DT Komatsu Harvester"
   ]
  },
  {
   "cell_type": "code",
   "execution_count": null,
   "metadata": {},
   "outputs": [],
   "source": [
    "def receive():\n",
    "    print_with_timestamp(\"Checking the harvester's response\")\n",
    "    access_token = s3i_identity_provider.get_token(s3i.TokenType.ACCESS_TOKEN)\n",
    "    headers = {'Content-Type': 'application/json', 'Authorization': 'Bearer ' + access_token}\n",
    "    response = requests.get(url=\"https://broker.s3i.vswf.dev/\"+ENDPOINT , headers=headers)\n",
    "    msg_json = \"\"\n",
    "    value_json = \"\"\n",
    "    json_acceptable_string = response.text\n",
    "    if json_acceptable_string:\n",
    "        if check_message_encryption(response.text.strip('\"')) == \"pgp\":\n",
    "            print_with_timestamp(\"You received a PGP message but this notebook can not decrypt PGP messages. Use the 03_inbox notebook to receive PGP messages.\")\n",
    "            print_with_timestamp(\"PGP Message: \" + response.text)\n",
    "            repeat()\n",
    "        else: \n",
    "            msg_json = json.loads(json_acceptable_string)\n",
    "            if msg_json[\"replyingToMessage\"] in messageIds:\n",
    "                if msg_json[\"messageType\"] == \"serviceReply\":\n",
    "                    value_json = msg_json[\"results\"]\n",
    "                elif msg_json[\"messageType\"] == \"getValueReply\":\n",
    "                    value_json = msg_json[\"value\"]\n",
    "                messageIds.remove(msg_json[\"replyingToMessage\"])\n",
    "    else:\n",
    "        print_with_timestamp(\"The harvester did not respond yet.\")\n",
    "        repeat()\n",
    "    return msg_json, value_json\n",
    "\n",
    "def repeat():\n",
    "    decision = input(\"[S3I] Do you want to check for new messages again? [j/n]\")\n",
    "    if decision in yes:\n",
    "        receive()\n",
    "    elif decision in no:\n",
    "        print_with_timestamp(\"You do not want to check for more messages. If you want to check for new messages, just execute this cell again (Run button or SHIFT+RETURN)\")\n",
    "    else:\n",
    "        print_with_timestamp(\"I could not understand your response. If you want to check for new messages, just execute this cell again (Run button or SHIFT+RETURN)\")"
   ]
  },
  {
   "cell_type": "code",
   "execution_count": null,
   "metadata": {},
   "outputs": [],
   "source": [
    "msg, value = receive()"
   ]
  },
  {
   "cell_type": "code",
   "execution_count": null,
   "metadata": {},
   "outputs": [],
   "source": [
    "if msg:\n",
    "    msg = json.loads(json.dumps(msg), object_pairs_hook=collections.OrderedDict)\n",
    "    print_with_timestamp(\"You received a message: \" + json.dumps(msg, indent=2))\n"
   ]
  },
  {
   "cell_type": "code",
   "execution_count": null,
   "metadata": {},
   "outputs": [],
   "source": [
    "if value:\n",
    "    if isinstance(value, dict):\n",
    "        value = json.loads(json.dumps(value), object_pairs_hook=collections.OrderedDict)\n",
    "        print_with_timestamp(\"Your requested value is: \" + json.dumps(value, indent=2))\n",
    "    else:\n",
    "        print_with_timestamp(\"Your requested value is: \\n{}\".format(value))"
   ]
  }
 ],
 "metadata": {
  "kernelspec": {
   "display_name": "Python 3",
   "language": "python",
   "name": "python3"
  },
  "language_info": {
   "codemirror_mode": {
    "name": "ipython",
    "version": 3
   },
   "file_extension": ".py",
   "mimetype": "text/x-python",
   "name": "python",
   "nbconvert_exporter": "python",
   "pygments_lexer": "ipython3",
   "version": "3.7.5"
  }
 },
 "nbformat": 4,
 "nbformat_minor": 4
}
