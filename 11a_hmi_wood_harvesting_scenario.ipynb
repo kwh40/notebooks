{
 "cells": [
  {
   "cell_type": "markdown",
   "id": "b69a9594",
   "metadata": {},
   "source": [
    "# HMI for wood harvesting scenario \n",
    "This is a KWH HMI which allows to receive S3I-B namedEvents from the forwarder and the harvester. Just run the folliwng code to launch this notebook. "
   ]
  },
  {
   "cell_type": "code",
   "execution_count": null,
   "id": "38b27e31",
   "metadata": {},
   "outputs": [],
   "source": [
    "import s3i\n",
    "import getpass\n",
    "import jwt\n",
    "import json\n",
    "import requests\n",
    "from tools import print_with_timestamp"
   ]
  },
  {
   "cell_type": "code",
   "execution_count": null,
   "id": "c80f8182",
   "metadata": {},
   "outputs": [],
   "source": [
    "HMI_ID = \"s3i:359f3c1b-390d-4dd3-ba78-d894c9343a16\"\n",
    "HMI_SECRET = \"4ac4f8d7-2e16-4fc1-9158-921f13bb5498\"\n",
    "\n",
    "HARVESTER_ID = \"s3i:f7b0057a-6602-480f-ad59-e090868ccd1d\"\n",
    "FORWARDER_ID = \"s3i:b31df67f-9d3e-4e93-ab3e-869cde7f3c3f\""
   ]
  },
  {
   "cell_type": "markdown",
   "id": "cd76e357",
   "metadata": {},
   "source": [
    "# Configure the notebook "
   ]
  },
  {
   "cell_type": "code",
   "execution_count": null,
   "id": "4ee268fe",
   "metadata": {},
   "outputs": [],
   "source": [
    "print_with_timestamp(\"HMI for the wood harvesting scenario, please log in.\")\n",
    "username = input('[S3I]: Please enter your username:').strip(',\" ')\n",
    "password = getpass.getpass('[S3I]: Please enter the password:')\n",
    "s3i_identity_provider = s3i.IdentityProvider(grant_type='password', \n",
    "                                             identity_provider_url=\"https://idp.s3i.vswf.dev/\",\n",
    "                                             realm='KWH',\n",
    "                                             client_id=HMI_ID,\n",
    "                                             client_secret=HMI_SECRET,\n",
    "                                             username=username,\n",
    "                                             password=password)\n",
    "\n",
    "\"\"\"\n",
    "get access token\n",
    "\"\"\"\n",
    "access_token = s3i_identity_provider.get_token(s3i.TokenType.ACCESS_TOKEN)\n",
    "\n",
    "\"\"\"\n",
    "decode the access token\n",
    "\"\"\"\n",
    "parsed_username = jwt.decode(access_token, verify=False)[\"preferred_username\"]\n",
    "print_with_timestamp(\"Token received, \" + parsed_username + \" logged in.\")"
   ]
  },
  {
   "cell_type": "markdown",
   "id": "db103e8b",
   "metadata": {},
   "source": [
    "# Configure the event queue\n",
    "In order to listen to the namedEvents emitted from the harvester and forwarder, you need to configure your event queue using S3I Config REST API"
   ]
  },
  {
   "cell_type": "code",
   "execution_count": null,
   "id": "71f46a35",
   "metadata": {},
   "outputs": [],
   "source": [
    "print_with_timestamp(\"Configure the event queue via Config API\")\n",
    "queue_length = input(\"[S3I]: Please enter the length of your event queue: \")\n",
    "topic = input(\"[S3I]: Please enter the event topic(s), Examples: \\n - s3i:123.topic \\n - ['s3i:123.topic1', 's3i:123.topic2']\\n\")\n",
    "request_body = {\"queue_length\": int(queue_length), \"topic\": topic}\n",
    "headers = {'Content-Type': 'application/json', 'Authorization': 'Bearer ' + access_token}\n",
    "response = requests.post(url=\"https://config.s3i.vswf.dev/things/{}/broker/event\".format(HMI_ID),\n",
    "                        data=json.dumps(request_body), headers=headers)\n",
    "print_with_timestamp(response.text)\n",
    "queue_name = response.json()[\"queue_name\"]"
   ]
  },
  {
   "cell_type": "markdown",
   "id": "e572c628",
   "metadata": {},
   "source": [
    "# Listen to the event"
   ]
  },
  {
   "cell_type": "code",
   "execution_count": null,
   "id": "5f0354f6",
   "metadata": {},
   "outputs": [],
   "source": [
    "\n",
    "def receive():    \n",
    "    response = requests.get(url=\"https://broker.s3i.vswf.dev/\"+queue_name , headers=headers)\n",
    "    if response.status_code == 200:\n",
    "        if response.content:\n",
    "            namedEvent = response.json()\n",
    "            if namedEvent[\"messageType\"] == \"eventMessage\":\n",
    "                if namedEvent[\"sender\"] == HARVESTER_ID:\n",
    "                    sender = \"harvester\"\n",
    "                elif namedEvent[\"sender\"] == FORWARDER_ID:\n",
    "                    sender = \"forwarder\"\n",
    "                else:\n",
    "                    sender = namedEvent[\"sender\"]\n",
    "                print_with_timestamp(\"Receive a namedEvent from {}: event generated at {}, content of event: {}\".format(sender, namedEvent[\"timestamp\"], namedEvent[\"content\"]))\n",
    "        else:\n",
    "            pass\n",
    "    else:\n",
    "        print_with_timestamp(\"Error with status code: {}\".format(response.status_code))\n",
    "\n",
    "while True:\n",
    "    try:\n",
    "        receive()\n",
    "    except KeyboardInterrupt:\n",
    "        \"\"\"\n",
    "        The connection in this application is built not directly via Pika, because Pika Connection (Blocking Connection or Selection Connection) is not allowed to use in Jupyter notebook.\n",
    "        The connection via Broker API leads to that the event queue will not be automatically deleted, since there is no consumer who listens to the event queue with a callback function\n",
    "        In order to delete it, we use the Config API. \n",
    "        \"\"\"\n",
    "        response = requests.delete(url=\"https://config.s3i.vswf.dev/things/{}/broker/event\".format(HMI_ID),\n",
    "                                  headers=headers)\n",
    "        if response.status_code == 204:\n",
    "            print_with_timestamp(\"Event Queue deleted\")\n",
    "        break"
   ]
  },
  {
   "cell_type": "code",
   "execution_count": null,
   "id": "7948b3a3",
   "metadata": {},
   "outputs": [],
   "source": []
  }
 ],
 "metadata": {
  "kernelspec": {
   "display_name": "Python 3 (ipykernel)",
   "language": "python",
   "name": "python3"
  },
  "language_info": {
   "codemirror_mode": {
    "name": "ipython",
    "version": 3
   },
   "file_extension": ".py",
   "mimetype": "text/x-python",
   "name": "python",
   "nbconvert_exporter": "python",
   "pygments_lexer": "ipython3",
   "version": "3.7.5"
  }
 },
 "nbformat": 4,
 "nbformat_minor": 5
}
