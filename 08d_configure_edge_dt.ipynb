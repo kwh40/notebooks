{
 "cells": [
  {
   "cell_type": "markdown",
   "metadata": {},
   "source": [
    "# Configure a digital twin: Edge harvester\n",
    "This is a KWH configuration application which allows to configure a digital twin based on edge approach using python reference implementation and S³I python library. As a result, you will get a configuration file and a credentials file. With the following example, we will show you how to register the identify of a **edge harvester** and create the respective configuration file. \n",
    "Just go to the **Cell** drop-down menu and use the **Run All** button."
   ]
  },
  {
   "cell_type": "markdown",
   "metadata": {},
   "source": [
    "First, all necessary modules are imported into the script, including the S³I and modelling language library."
   ]
  },
  {
   "cell_type": "code",
   "execution_count": null,
   "metadata": {},
   "outputs": [],
   "source": [
    "import s3i\n",
    "import jwt\n",
    "import getpass\n",
    "import json \n",
    "import os \n",
    "from ml.tools import load_config, make_thing_config, make_sub_thing\n",
    "from tools import print_with_timestamp, yes, no, configuration_app_id, configuration_app_secret"
   ]
  },
  {
   "cell_type": "markdown",
   "metadata": {},
   "source": [
    "## Configure the application\n",
    "In order to register a thing identify for the harvester, we need a connection with S³I. This means, this app needs a client id and the respective secret to complete the authentication at the S³I. The client credentials are already prepared for you. Thus, you only need to enter your username and password in the following input fields."
   ]
  },
  {
   "cell_type": "code",
   "execution_count": null,
   "metadata": {},
   "outputs": [],
   "source": [
    "print_with_timestamp(\"KWH application to configure a digital twin, please log in!\")\n",
    "username = input('[S3I]: Please enter your username:').strip(',\" ')\n",
    "password = getpass.getpass('[S3I]: Please enter the password:')\n",
    "print_with_timestamp(\"Your credentials are sent to S3I IdentityProvider.\")\n",
    "s3i_identity_provider = s3i.IdentityProvider(grant_type='password', \n",
    "                                             identity_provider_url=\"https://idp.s3i.vswf.dev/\",\n",
    "                                             realm='KWH',\n",
    "                                             client_id=configuration_app_id,\n",
    "                                             client_secret=configuration_app_secret,\n",
    "                                             username=username,\n",
    "                                             password=password)\n",
    "access_token = s3i_identity_provider.get_token(s3i.TokenType.ACCESS_TOKEN)\n",
    "\n",
    "''' decode the access token'''\n",
    "parsed_username = jwt.decode(access_token, verify=False)[\"preferred_username\"]\n",
    "\n",
    "print_with_timestamp(\"Token received, \" + parsed_username + \" logged in.\")"
   ]
  },
  {
   "cell_type": "markdown",
   "metadata": {},
   "source": [
    "## Path of configuration files"
   ]
  },
  {
   "cell_type": "code",
   "execution_count": null,
   "metadata": {},
   "outputs": [],
   "source": [
    "config_path = os.path.abspath(os.path.join(\"\", \"configs\"))"
   ]
  },
  {
   "cell_type": "markdown",
   "metadata": {},
   "source": [
    "## Create an identity for your edge harvester\n",
    "In the following, a thing identity is created using the S³I Config API. Apart from that, we also create a corresponding S³I-B endpoint in the S³I Broker. "
   ]
  },
  {
   "cell_type": "code",
   "execution_count": null,
   "metadata": {},
   "outputs": [],
   "source": [
    "s3i_config = s3i.Config(token=access_token)\n",
    "thing_name = input(\"[S³I]: Please name your Harvester(e.g. my_edge_harvester): \")\n",
    "\n",
    "\"\"\"Create a thing identity\"\"\"\n",
    "resp = s3i_config.create_thing()\n",
    "thing_id = resp.json().get(\"identifier\", None)\n",
    "thing_secret = resp.json().get(\"secret\", None)\n",
    "print_with_timestamp(\"{} has the identifier: {}\".format(thing_name, thing_id))\n",
    "print_with_timestamp(\"{} has the respective secret: {}\".format(thing_name, thing_secret))\n",
    "\n",
    "\"\"\"Create a S³I-B endpoint\"\"\"\n",
    "s3i_config.create_broker_queue(thing_id=thing_id)\n",
    "\n",
    "\"\"\"Store the credentials\"\"\"\n",
    "cred_filepath = os.path.join(config_path, \"{}_cred.json\".format(thing_name))\n",
    "with open(cred_filepath, 'wb') as file:\n",
    "    file.write(json.dumps(resp.json()).encode('utf-8'))"
   ]
  },
  {
   "cell_type": "markdown",
   "metadata": {},
   "source": [
    "## Make the configuration file\n",
    "As next we will introduce how to simply configure your digital twin of harvester using the python reference implementation library. All the roles and features used have been defined in fml40, and implemented in the corresponding library. "
   ]
  },
  {
   "cell_type": "code",
   "execution_count": null,
   "metadata": {},
   "outputs": [],
   "source": [
    "%%html\n",
    "<img src=\"harvester_images/edge_h.png\", width=900, height=900>"
   ]
  },
  {
   "cell_type": "code",
   "execution_count": null,
   "metadata": {},
   "outputs": [],
   "source": [
    "\"\"\"Create subthings for the harvester\"\"\"\n",
    "config_engine = make_sub_thing(name=\"my_engine\", roles=[{\"class\": \"ml40::Engine\"}],\n",
    "                               features=[ {\"class\": \"ml40::RotationalSpeed\", \"rpm\": 2005}])\n",
    "\n",
    "config_cran = make_sub_thing(name=\"my_bord_computer\", roles=[{\"class\": \"ml40::MachineUI\"}])\n",
    "\n",
    "\n",
    "\"\"\"Make the roles and features\"\"\"\n",
    "config_file_name = make_thing_config(thing_id=thing_id, name=thing_name, \n",
    "                                     roles=[{\"class\": \"fml40::Harvester\"}],\n",
    "                                     features=[\n",
    "                                                 {\"class\": \"fml40::ProvidesProductionData\"},\n",
    "                                                 {\"class\": \"fml40::AcceptsFellingJobs\"},\n",
    "                                                 {\"class\": \"ml40::Location\", \"longitude\":6.083900,\"latitude\": 50.775500},\n",
    "                                                 {\"class\": \"ml40::Composite\",\n",
    "                                                  \"targets\": [config_engine, config_cran]}\n",
    "                                              ],\n",
    "                                     config_path=config_path)\n",
    "\n",
    "thing_model = load_config(config_filepath=os.path.join(config_path, config_file_name))\n",
    "print_with_timestamp(\"The fml40 model of the created harvester in the form of JSON: \" + json.dumps(thing_model, indent=2))\n",
    "print_with_timestamp(\"The created configuration file is stored in the folder 'configs'.\")"
   ]
  }
 ],
 "metadata": {
  "kernelspec": {
   "display_name": "Python 3",
   "language": "python",
   "name": "python3"
  },
  "language_info": {
   "codemirror_mode": {
    "name": "ipython",
    "version": 3
   },
   "file_extension": ".py",
   "mimetype": "text/x-python",
   "name": "python",
   "nbconvert_exporter": "python",
   "pygments_lexer": "ipython3",
   "version": "3.7.6"
  }
 },
 "nbformat": 4,
 "nbformat_minor": 4
}
