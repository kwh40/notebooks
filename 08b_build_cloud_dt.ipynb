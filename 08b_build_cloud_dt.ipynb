{
 "cells": [
  {
   "cell_type": "markdown",
   "metadata": {},
   "source": [
    "# Launch your digital twin: Cloud harvester\n",
    "This is a KWH notebook which can be used to build and launch the digital twin whose configurtion file was created with the notebook 08a. The launched digital twin will automatically connect to S³I and its model will be copied into the S³I Repository. \n",
    "Just go to the **Cell** drop-down menu and use the **Run All** button."
   ]
  },
  {
   "cell_type": "markdown",
   "metadata": {},
   "source": [
    "First, all necessary modules are imported into the script, including the S³I and modelling language library."
   ]
  },
  {
   "cell_type": "code",
   "execution_count": null,
   "metadata": {},
   "outputs": [],
   "source": [
    "import s3i\n",
    "import time \n",
    "import os \n",
    "from ml.tools import load_config\n",
    "from ml.dt_factory import create_dt_ref\n",
    "from ml.app_logger import setup_logger\n",
    "from tools import print_with_timestamp, yes, no, hmi_id, hmi_secret"
   ]
  },
  {
   "cell_type": "markdown",
   "metadata": {},
   "source": [
    "## Load the configuration file "
   ]
  },
  {
   "cell_type": "code",
   "execution_count": null,
   "metadata": {},
   "outputs": [],
   "source": [
    "dt_name = input(\"[S³I]: Please enter the name of your digital twin (my_cloud_harvester): \")\n",
    "config_file_name = \"{}.json\".format(dt_name)\n",
    "root_path = os.path.abspath(\"\")\n",
    "dt_model = load_config(config_file_name, root=root_path)\n"
   ]
  },
  {
   "cell_type": "markdown",
   "metadata": {},
   "source": [
    "## Set up a logger"
   ]
  },
  {
   "cell_type": "code",
   "execution_count": null,
   "metadata": {},
   "outputs": [],
   "source": [
    "setup_logger(dt_model[\"attributes\"].get(\"name\", None))"
   ]
  },
  {
   "cell_type": "markdown",
   "metadata": {},
   "source": [
    "## Build the digital twin \n",
    "The construction of the digital twin is based on the configuration file created previously. Features, roles and another relevant entries, which are configured in the configuration file, will be instantiated with the resptive object of the fml40 library. "
   ]
  },
  {
   "cell_type": "code",
   "execution_count": null,
   "metadata": {},
   "outputs": [],
   "source": [
    "dt_secret = input(\"[S³I]: Please enter the secret of your digital twin: \")\n",
    "dt = create_dt_ref(model=dt_model, grant_type=\"client_credentials\", \n",
    "                   secret=dt_secret,\n",
    "                   is_broker=False, is_repo=True)"
   ]
  },
  {
   "cell_type": "markdown",
   "metadata": {},
   "source": [
    "We offer hereby a pre-defined simulate function, which simulates the rpm changing of harvester. "
   ]
  },
  {
   "cell_type": "code",
   "execution_count": null,
   "metadata": {},
   "outputs": [],
   "source": [
    "def simulate_rpm():\n",
    "    \"\"\"\n",
    "    This function simulates how the rpm value of the engine changes between 2000 to 2500 U/min. \n",
    "    \"\"\"\n",
    "    tank = \"up\"\n",
    "\n",
    "    while True:\n",
    "        if tank == \"down\":\n",
    "            __new_rpm = dt.features[\"ml40::RotationalSpeed\"].rpm - 10\n",
    "            if __new_rpm < 2000:\n",
    "                tank = \"up\"\n",
    "\n",
    "        elif tank == \"up\":\n",
    "            __new_rpm = dt.features[\"ml40::RotationalSpeed\"].rpm + 10\n",
    "            if __new_rpm > 2500:\n",
    "                tank = \"down\"\n",
    "        dt.features[\"ml40::RotationalSpeed\"].rpm = __new_rpm\n",
    "        time.sleep(1)"
   ]
  },
  {
   "cell_type": "markdown",
   "metadata": {},
   "source": [
    "Insert the class and function into the instance of the digital twin. "
   ]
  },
  {
   "cell_type": "code",
   "execution_count": null,
   "metadata": {},
   "outputs": [],
   "source": [
    "dt.add_user_def(func=simulate_rpm)"
   ]
  },
  {
   "cell_type": "markdown",
   "metadata": {},
   "source": [
    "## Launch the digital twin \n",
    "The digital twin is then started and connect to S³I automatically. It will firstly authenticate itself at the S³I IdentityProvider. The digital twin has a thing entry in the S³I Directory and a cloud copy stored in the S³I Repository, which is synchronized with the simulated rpm value."
   ]
  },
  {
   "cell_type": "code",
   "execution_count": null,
   "metadata": {},
   "outputs": [],
   "source": [
    "dt.run_forever()\n",
    "while True:\n",
    "    i = input(\"[S³I]: End the digital twin? (j/n)\")\n",
    "    if i in yes:\n",
    "        break\n",
    "    elif i in no:\n",
    "        continue"
   ]
  }
 ],
 "metadata": {
  "kernelspec": {
   "display_name": "Python 3",
   "language": "python",
   "name": "python3"
  },
  "language_info": {
   "codemirror_mode": {
    "name": "ipython",
    "version": 3
   },
   "file_extension": ".py",
   "mimetype": "text/x-python",
   "name": "python",
   "nbconvert_exporter": "python",
   "pygments_lexer": "ipython3",
   "version": "3.8.5"
  }
 },
 "nbformat": 4,
 "nbformat_minor": 4
}
