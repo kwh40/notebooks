{
 "cells": [
  {
   "cell_type": "markdown",
   "metadata": {},
   "source": [
    "# Launch your digital twin: Edge harvester\n",
    "This is a KWH application (notebook) which can be used to build and launch the digital twin whose configurtion file was created with the notebook 08d. The launched digital twin will automatically connect to S³I and it can be reached using S³I-B messages. \n",
    "Just go to the **Cell** drop-down menu and use the **Run All** button."
   ]
  },
  {
   "cell_type": "markdown",
   "metadata": {},
   "source": [
    "First, all necessary modules are imported into the script, including the S³I and modelling language library."
   ]
  },
  {
   "cell_type": "code",
   "execution_count": null,
   "metadata": {},
   "outputs": [],
   "source": [
    "import s3i\n",
    "import time \n",
    "import os \n",
    "from ml.tools import load_config\n",
    "from ml.dt_factory import create_dt_ref, build_feature, add_function_impl_obj\n",
    "from ml.fml40.features.functionalities.accepts_felling_jobs import AcceptsFellingJobs\n",
    "from ml.ml40.features.properties.values.documents.jobs.job_status import JobStatus\n",
    "from ml.app_logger import APP_LOGGER, setup_logger\n",
    "from tools import print_with_timestamp, yes, no, hmi_id, hmi_secret"
   ]
  },
  {
   "cell_type": "markdown",
   "metadata": {},
   "source": [
    "## Load the configuration file "
   ]
  },
  {
   "cell_type": "code",
   "execution_count": null,
   "metadata": {},
   "outputs": [],
   "source": [
    "dt_name = input(\"[S³I]: Please enter the name of your digital twin (my_edge_harvester): \")\n",
    "config_file_name = \"{}.json\".format(dt_name)\n",
    "root_path = os.path.abspath(\"\")\n",
    "dt_model = load_config(config_file_name, root=root_path)\n"
   ]
  },
  {
   "cell_type": "markdown",
   "metadata": {},
   "source": [
    "## Set up a logger"
   ]
  },
  {
   "cell_type": "code",
   "execution_count": null,
   "metadata": {},
   "outputs": [],
   "source": [
    "setup_logger(dt_model[\"attributes\"].get(\"name\", None))"
   ]
  },
  {
   "cell_type": "markdown",
   "metadata": {},
   "source": [
    "## Build the digital twin \n",
    "The construction of the digital twin is based on the configuration file created previously. Features, roles and another relevant entries, which are composed in the configuration file, will be instantiated with the resptive object of the fml40 library. "
   ]
  },
  {
   "cell_type": "code",
   "execution_count": null,
   "metadata": {},
   "outputs": [],
   "source": [
    "dt_secret = input(\"[S³I]: Please enter the secret of your digital twin: \")\n",
    "dt = create_dt_ref(model=dt_model, grant_type=\"client_credentials\", \n",
    "                   secret=dt_secret,\n",
    "                   is_broker_rest=True,\n",
    "                   is_broker=True, is_repo=False)"
   ]
  },
  {
   "cell_type": "markdown",
   "metadata": {},
   "source": [
    "To show the extensibility of fml40, we have implemented a class that inherits all the methods and properties of the fml40::AcceptsFellingJobs class. Additionally, we have also pre-defined a simulate function, which simulates the rpm changing of harvester's engine. "
   ]
  },
  {
   "cell_type": "code",
   "execution_count": null,
   "metadata": {},
   "outputs": [],
   "source": [
    "class AcceptsFellingJobsImpl(AcceptsFellingJobs):\n",
    "    \"\"\"\n",
    "    This class inherits the method acceptJob, queryJobStatus and removejob of the fml40::AcceptsFellingJobs class. \n",
    "    \"\"\"\n",
    "    def __init__(self, name=\"\", identifier=\"\"):\n",
    "        super(AcceptsFellingJobs, self).__init__(\n",
    "            name=name,\n",
    "            identifier=identifier)\n",
    "        self.job_list = []\n",
    "\n",
    "    def acceptJob(self, job):\n",
    "        APP_LOGGER.info(\"Checking if the felling job can be accepted.\")\n",
    "        if isinstance(job, dict):\n",
    "            try:\n",
    "                felling_job = build_feature(feature=job)\n",
    "                for job in self.job_list:\n",
    "                    if job.identifier == felling_job.identifier:\n",
    "                        APP_LOGGER.info(\"Job with ID {} has been rejected, because this job was already accepted\".format(\n",
    "                            felling_job.identifier))\n",
    "                        return False\n",
    "\n",
    "                felling_job.status = JobStatus.InProgress.name\n",
    "                self.job_list.append(felling_job)\n",
    "                APP_LOGGER.info(\"Job with ID {} has been accepted\".format(felling_job.identifier))\n",
    "                return True\n",
    "\n",
    "            except:\n",
    "                APP_LOGGER.info(\"Job with ID {} has been rejected\".format(felling_job.identifier))\n",
    "                return False\n",
    "\n",
    "    def queryJobStatus(self, identifier):\n",
    "        APP_LOGGER.info(\"Checking the job status of job {}\".format(identifier))\n",
    "        for job in self.job_list:\n",
    "            if job.identifier == identifier:\n",
    "                APP_LOGGER.info(\"Job {} is now in status {}\".format(identifier, job.status))\n",
    "                return {\"identifier\": identifier, \"status\": job.status}\n",
    "        APP_LOGGER.info(\"Job {} can not be queried\".format(identifier))\n",
    "        return {\"identifier\": identifier, \"status\": \"NOT FOUND\"}\n",
    "\n",
    "    def removeJob(self, identifier):\n",
    "        APP_LOGGER.info(\"Checking if i can remove the job {}\".format(identifier))\n",
    "        for job in self.job_list:\n",
    "            if job.identifier == identifier:\n",
    "                self.job_list.remove(job)\n",
    "                APP_LOGGER.info(\"Job {} removed\".format(identifier))\n",
    "                return True\n",
    "        APP_LOGGER.info(\"Job {} can not be found\".format(identifier))\n",
    "        return False\n",
    "\n",
    "\n",
    "def simulate_rpm():\n",
    "    \"\"\"\n",
    "    This function simulates how the rpm value of the engine changes between 2000 to 2500 U/min. \n",
    "    \"\"\"\n",
    "    my_engine = dt.features[\"ml40::Composite\"].targets[\"my_engine\"]\n",
    "    tank = \"up\"\n",
    "\n",
    "    while True:\n",
    "        if tank == \"down\":\n",
    "            __new_rpm = my_engine.features[\"ml40::RotationalSpeed\"].rpm - 10\n",
    "            if __new_rpm < 2000:\n",
    "                tank = \"up\"\n",
    "\n",
    "        elif tank == \"up\":\n",
    "            __new_rpm = my_engine.features[\"ml40::RotationalSpeed\"].rpm + 10\n",
    "            if __new_rpm > 2500:\n",
    "                tank = \"down\"\n",
    "        my_engine.features[\"ml40::RotationalSpeed\"].rpm = __new_rpm\n",
    "        time.sleep(1)"
   ]
  },
  {
   "cell_type": "markdown",
   "metadata": {},
   "source": [
    "Insert the class and function into the instance of the digital twin. "
   ]
  },
  {
   "cell_type": "code",
   "execution_count": null,
   "metadata": {},
   "outputs": [],
   "source": [
    "add_function_impl_obj(dt, AcceptsFellingJobsImpl, \"fml40::AcceptsFellingJobs\")\n",
    "dt.add_user_def(func=simulate_rpm)"
   ]
  },
  {
   "cell_type": "markdown",
   "metadata": {},
   "source": [
    "## Launch the digital twin\n",
    "The digital twin is then started and automatically connected to S³I . It will firstly authenticate itself at the S³I IdentityProvider.  Afterwards, a listener for the S³I Broker is also launched to receive the S³I-B messages. The digital twin has a thing entry at the S³I Directory and its original model is exclusively stored locally, so it is called as edge harvester.  "
   ]
  },
  {
   "cell_type": "code",
   "execution_count": null,
   "metadata": {},
   "outputs": [],
   "source": [
    "dt.run_forever()\n",
    "while True:\n",
    "    i = input(\"[S³I]: End the digital twin? (j/n)\")\n",
    "    if i in yes:\n",
    "        break\n",
    "    elif i in no:\n",
    "        continue"
   ]
  }
 ],
 "metadata": {
  "kernelspec": {
   "display_name": "Python 3",
   "language": "python",
   "name": "python3"
  },
  "language_info": {
   "codemirror_mode": {
    "name": "ipython",
    "version": 3
   },
   "file_extension": ".py",
   "mimetype": "text/x-python",
   "name": "python",
   "nbconvert_exporter": "python",
   "pygments_lexer": "ipython3",
   "version": "3.8.5"
  }
 },
 "nbformat": 4,
 "nbformat_minor": 4
}
