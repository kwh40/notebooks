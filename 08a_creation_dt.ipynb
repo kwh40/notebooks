{
 "cells": [
  {
   "cell_type": "markdown",
   "metadata": {},
   "source": [
    "# Creation of a digital twin \n",
    "This is a KWH application which allows creating a simple digital twin using python reference implementation. The created digital twin can be launched and connect to S³I in this notebook, until you shut down the kernel. In this notebook, we will borrow the example of harvester to show you how to create a digital twin. All necessary modules are imported into the script, including the S³I library and reference implementation library. \n",
    "Just go to the **Cell** drop-down menu and use the **Run All** button."
   ]
  },
  {
   "cell_type": "markdown",
   "metadata": {},
   "source": [
    "First, all necessary modules are imported into the script, including the S³I library."
   ]
  },
  {
   "cell_type": "code",
   "execution_count": null,
   "metadata": {},
   "outputs": [],
   "source": [
    "import s3i\n",
    "import jwt\n",
    "import requests\n",
    "import getpass\n",
    "import json \n",
    "from ml.tools import load_config, make_config_file, make_sub_thing\n",
    "from ml.dt_factory import create_dt_ref\n",
    "from ml.app_logger import APP_LOGGER, setup_logger\n",
    "from tools import print_with_timestamp, check_message_encryption, yes, no, dt_creation_app_id, dt_creation_app_secret"
   ]
  },
  {
   "cell_type": "markdown",
   "metadata": {},
   "source": [
    "## Configure the notebook\n",
    "In order to use the S³I this notebook needs a client id and the respective secret. Those are already prepared for you. You need to enter your username and password in the following input fields in order to assign this notebook to your personal KWH application. "
   ]
  },
  {
   "cell_type": "code",
   "execution_count": null,
   "metadata": {},
   "outputs": [],
   "source": [
    "print_with_timestamp(\"KWH application to create a dt, please log in!\")\n",
    "username = input('[S3I]: Please enter your username:').strip(',\" ')\n",
    "password = getpass.getpass('[S3I]: Please enter the password:')\n",
    "print_with_timestamp(\"Your credentials are sent to S3I IdentityProvider.\")\n",
    "s3i_identity_provider = s3i.IdentityProvider(grant_type='password', \n",
    "                                             identity_provider_url=\"https://idp.s3i.vswf.dev/\",\n",
    "                                             realm='KWH',\n",
    "                                             client_id=dt_creation_app_id,\n",
    "                                             client_secret=dt_creation_app_secret,\n",
    "                                             username=username,\n",
    "                                             password=password)\n",
    "access_token = s3i_identity_provider.get_token(s3i.TokenType.ACCESS_TOKEN)\n",
    "\n",
    "''' decode the access token'''\n",
    "parsed_username = jwt.decode(access_token, verify=False)[\"preferred_username\"]\n",
    "\n",
    "print_with_timestamp(\"Token received, \" + parsed_username + \" logged in.\")"
   ]
  },
  {
   "cell_type": "markdown",
   "metadata": {},
   "source": [
    "## Create an identity for your digital twin\n",
    "your digital twin needs also an identify, which can be created using config rest api. "
   ]
  },
  {
   "cell_type": "code",
   "execution_count": null,
   "metadata": {},
   "outputs": [],
   "source": [
    "create_thing_resp = requests.post(url=\"https://config.s3i.vswf.dev/things/\",\n",
    "                                  headers={\"Authorization\": \"Bearer {}\".format(access_token),\n",
    "                                           \"Content-Type\": \"application/json\"},\n",
    "                                  data=json.dumps({}))\n",
    "dt_id = create_thing_resp.json().get(\"identifier\", None)\n",
    "dt_secret = create_thing_resp.json().get(\"secret\", None)\n",
    "create_cloud_copy_resp = requests.post(url=\"https://config.s3i.vswf.dev/things/{}/repository\".format(dt_id),\n",
    "                                       headers={\"Authorization\": \"Bearer {}\".format(access_token),\n",
    "                                                \"Content-Type\": \"application/json\"})\n",
    "create_endpoint_resp = requests.post(url=\"https://config.s3i.vswf.dev/things/{}/broker\".format(dt_id),\n",
    "                                     headers={\"Authorization\": \"Bearer {}\".format(access_token),\n",
    "                                              \"Content-Type\": \"application/json\"},\n",
    "                                     data=json.dumps({\"encrypted\": False})\n",
    "                                     )\n",
    "print_with_timestamp(\"Your digital twin has the identifier: {}\".format(dt_id))"
   ]
  },
  {
   "cell_type": "markdown",
   "metadata": {},
   "source": [
    "## Configurate your digital twin\n",
    "as next we will introduce how to configurate your digital twin Harvester using python reference implementation library. "
   ]
  },
  {
   "cell_type": "code",
   "execution_count": null,
   "metadata": {},
   "outputs": [],
   "source": [
    "dt_name = input(\"Please name your digital twin Harvester(e.g. my_harvester): \")\n",
    "\n",
    "setup_logger(dt_name)\n",
    "config_engine = make_sub_thing(name=\"my_engine\", roles=[\"ml40::Engine\"],\n",
    "                               features=[\"ml40::RotationalSpeed\"])\n",
    "config_cran = make_sub_thing(name=\"my_bord_computer\", roles=[\"ml40::MachineUI\"])\n",
    "config_file_name = make_config_file(dt_id=dt_id, name=dt_name, roles=[\"fml40::Harvester\"],\n",
    "                                    features=[\"fml40::ProvidesProductionData\", \"fml40::AcceptsFellingJobs\",\n",
    "                                              {\"ml40::Composite\": [config_engine, config_cran]}])\n",
    "dt_model = load_config('configs/{}'.format(config_file_name))\n",
    "print_with_timestamp(\"The date model of the created harvester: {}\" + json.dumps(dt_model, indent=2))"
   ]
  },
  {
   "cell_type": "markdown",
   "metadata": {},
   "source": [
    "## Create the proxy of your digital twin Harvester"
   ]
  },
  {
   "cell_type": "code",
   "execution_count": null,
   "metadata": {},
   "outputs": [],
   "source": [
    "dt_ref = create_dt_ref(model=dt_model, grant_type=\"password\", secret=dt_secret, username=username, password=password,\n",
    "                       is_broker_rest=True,\n",
    "                       is_broker=True, is_repo=False)\n",
    "dt_proxy = dt_ref.proxy()"
   ]
  },
  {
   "cell_type": "markdown",
   "metadata": {},
   "source": [
    "## Run the digital twin Harvester"
   ]
  },
  {
   "cell_type": "code",
   "execution_count": null,
   "metadata": {},
   "outputs": [],
   "source": [
    "dt_proxy.run_forever()"
   ]
  }
 ],
 "metadata": {
  "kernelspec": {
   "display_name": "Python 3",
   "language": "python",
   "name": "python3"
  },
  "language_info": {
   "codemirror_mode": {
    "name": "ipython",
    "version": 3
   },
   "file_extension": ".py",
   "mimetype": "text/x-python",
   "name": "python",
   "nbconvert_exporter": "python",
   "pygments_lexer": "ipython3",
   "version": "3.7.6"
  }
 },
 "nbformat": 4,
 "nbformat_minor": 4
}
