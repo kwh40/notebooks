{
 "cells": [
  {
   "cell_type": "markdown",
   "metadata": {},
   "source": [
    "# Creation of a digital twin \n",
    "This is a KWH application which allows creating a simple digital twin using python reference implementation. The created digital twin can be launched and connect to S³I in this notebook, until you shut down the kernel. In this notebook, we will borrow the example of harvester to show you how to create a digital twin. All necessary modules are imported into the script, including the S³I library and reference implementation library. \n",
    "Just go to the **Cell** drop-down menu and use the **Run All** button."
   ]
  },
  {
   "cell_type": "markdown",
   "metadata": {},
   "source": [
    "First, all necessary modules are imported into the script, including the S³I and modelling language library."
   ]
  },
  {
   "cell_type": "code",
   "execution_count": 1,
   "metadata": {},
   "outputs": [],
   "source": [
    "import s3i\n",
    "import jwt\n",
    "import requests\n",
    "import getpass\n",
    "import json \n",
    "from ml.tools import load_config, make_thing_config, make_sub_thing\n",
    "from ml.dt_factory import create_dt_ref\n",
    "from ml.app_logger import APP_LOGGER, setup_logger\n",
    "from tools import print_with_timestamp, check_message_encryption, yes, no, dt_creation_app_id, dt_creation_app_secret"
   ]
  },
  {
   "cell_type": "markdown",
   "metadata": {},
   "source": [
    "## Configure the notebook\n",
    "In order to connect to S³I this notebook needs a client id and the respective secret to authenticate itself. The client credentials are already prepared for you. You only need to enter your username and password in the following input fields, so that you can assign this notebook to your private KWH application. "
   ]
  },
  {
   "cell_type": "code",
   "execution_count": 2,
   "metadata": {},
   "outputs": [
    {
     "name": "stdout",
     "output_type": "stream",
     "text": [
      "[S3I][2020-10-09 07:47:40]: KWH application to create a dt, please log in!\n",
      "[S3I]: Please enter your username:chen\n",
      "[S3I]: Please enter the password:········\n",
      "[S3I][2020-10-09 07:47:47]: Your credentials are sent to S3I IdentityProvider.\n",
      "[S3I][2020-10-09 07:47:47]: Token received, chen logged in.\n"
     ]
    }
   ],
   "source": [
    "print_with_timestamp(\"KWH application to create a dt, please log in!\")\n",
    "username = input('[S3I]: Please enter your username:').strip(',\" ')\n",
    "password = getpass.getpass('[S3I]: Please enter the password:')\n",
    "print_with_timestamp(\"Your credentials are sent to S3I IdentityProvider.\")\n",
    "s3i_identity_provider = s3i.IdentityProvider(grant_type='password', \n",
    "                                             identity_provider_url=\"https://idp.s3i.vswf.dev/\",\n",
    "                                             realm='KWH',\n",
    "                                             client_id=dt_creation_app_id,\n",
    "                                             client_secret=dt_creation_app_secret,\n",
    "                                             username=username,\n",
    "                                             password=password)\n",
    "access_token = s3i_identity_provider.get_token(s3i.TokenType.ACCESS_TOKEN)\n",
    "\n",
    "''' decode the access token'''\n",
    "parsed_username = jwt.decode(access_token, verify=False)[\"preferred_username\"]\n",
    "\n",
    "print_with_timestamp(\"Token received, \" + parsed_username + \" logged in.\")"
   ]
  },
  {
   "cell_type": "markdown",
   "metadata": {},
   "source": [
    "## Create an identity for your digital twin\n",
    "Your digital twin needs an identify to connect with S³I, which can be created using S³I config rest api. "
   ]
  },
  {
   "cell_type": "code",
   "execution_count": 3,
   "metadata": {},
   "outputs": [
    {
     "name": "stdout",
     "output_type": "stream",
     "text": [
      "[S3I][2020-10-09 07:47:48]: Your digital twin has the identifier: s3i:461feada-29d8-4d92-be4e-cabda5fb857e\n"
     ]
    }
   ],
   "source": [
    "s3i_config = s3i.Config(access_token)\n",
    "resp = s3i_config.create_thing()\n",
    "dt_id = resp.json().get(\"identifier\", None)\n",
    "dt_secret = resp.json().get(\"secret\", None)\n",
    "s3i_config.create_broker_queue(thing_id=dt_id)\n",
    "print_with_timestamp(\"Your digital twin has the identifier: {}\".format(dt_id))"
   ]
  },
  {
   "cell_type": "markdown",
   "metadata": {},
   "source": [
    "## Configurate your digital twin of harvester\n",
    "as next we will introduce how to simply configurate your digital twin of harvester using python reference implementation library. All the hereby used roles and features have been defined in fml40 and implemented in this reference implementation library. "
   ]
  },
  {
   "cell_type": "code",
   "execution_count": 4,
   "metadata": {},
   "outputs": [
    {
     "name": "stdout",
     "output_type": "stream",
     "text": [
      "[S³I]: Please name your digital twin Harvester(e.g. my_harvester): my_harvester\n",
      "[S3I][2020-10-09 07:47:52]: The date model of the created harvester: {\n",
      "  \"thingId\": \"s3i:461feada-29d8-4d92-be4e-cabda5fb857e\",\n",
      "  \"policyId\": \"s3i:461feada-29d8-4d92-be4e-cabda5fb857e\",\n",
      "  \"attributes\": {\n",
      "    \"class\": \"ml40::Thing\",\n",
      "    \"name\": \"my_harvester\",\n",
      "    \"roles\": [\n",
      "      {\n",
      "        \"class\": \"fml40::Harvester\"\n",
      "      }\n",
      "    ],\n",
      "    \"features\": [\n",
      "      {\n",
      "        \"class\": \"fml40::ProvidesProductionData\"\n",
      "      },\n",
      "      {\n",
      "        \"class\": \"fml40::AcceptsFellingJobs\"\n",
      "      },\n",
      "      {\n",
      "        \"class\": \"ml40::Composite\",\n",
      "        \"targets\": [\n",
      "          {\n",
      "            \"class\": \"ml40::Thing\",\n",
      "            \"name\": \"my_engine\",\n",
      "            \"roles\": [\n",
      "              {\n",
      "                \"class\": \"ml40::Engine\"\n",
      "              }\n",
      "            ],\n",
      "            \"features\": [\n",
      "              {\n",
      "                \"class\": \"ml40::RotationalSpeed\",\n",
      "                \"rpm\": 5\n",
      "              }\n",
      "            ]\n",
      "          },\n",
      "          {\n",
      "            \"class\": \"ml40::Thing\",\n",
      "            \"name\": \"my_bord_computer\",\n",
      "            \"roles\": [\n",
      "              {\n",
      "                \"class\": \"ml40::MachineUI\"\n",
      "              }\n",
      "            ],\n",
      "            \"features\": []\n",
      "          }\n",
      "        ]\n",
      "      }\n",
      "    ]\n",
      "  }\n",
      "}\n"
     ]
    }
   ],
   "source": [
    "dt_name = input(\"[S³I]: Please name your digital twin Harvester(e.g. my_harvester): \")\n",
    "setup_logger(dt_name)\n",
    "config_engine = make_sub_thing(name=\"my_engine\", roles=[{\"class\": \"ml40::Engine\"}],\n",
    "                               features=[ {\"class\": \"ml40::RotationalSpeed\", \"rpm\": 5}])\n",
    "\n",
    "config_cran = make_sub_thing(name=\"my_bord_computer\", roles=[{\"class\": \"ml40::MachineUI\"}])\n",
    "config_file_name = make_thing_config(dt_id=dt_id, name=dt_name, roles=[{\"class\": \"fml40::Harvester\"}],\n",
    "                                     features=[{\"class\": \"fml40::ProvidesProductionData\"},\n",
    "                                              {\"class\": \"fml40::AcceptsFellingJobs\"},\n",
    "                                              {\"class\": \"ml40::Composite\",\n",
    "                                               \"targets\": [config_engine, config_cran]}])\n",
    "\n",
    "dt_model = load_config('configs/{}'.format(config_file_name))\n",
    "print_with_timestamp(\"The date model of the created harvester: \" + json.dumps(dt_model, indent=2))"
   ]
  },
  {
   "cell_type": "markdown",
   "metadata": {},
   "source": [
    "## Create the reference and proxy of your digital twin Harvester\n",
    "With the configuration file you can in the next steps create harvester reference and proxy. The digital twin will register the features and roles and bind himself with those structurally. "
   ]
  },
  {
   "cell_type": "code",
   "execution_count": 5,
   "metadata": {},
   "outputs": [
    {
     "name": "stderr",
     "output_type": "stream",
     "text": [
      "2020-10-09 07:47:52,159 - DEBUG - my_harvester: Creating ditigtal twin my_harvester with id s3i:461feada-29d8-4d92-be4e-cabda5fb857e\n",
      "DEBUG:app_logger:Creating ditigtal twin my_harvester with id s3i:461feada-29d8-4d92-be4e-cabda5fb857e\n",
      "2020-10-09 07:47:52,165 - DEBUG - my_harvester: Adding roles: fml40::Harvester\n",
      "DEBUG:app_logger:Adding roles: fml40::Harvester\n",
      "2020-10-09 07:47:52,169 - DEBUG - my_harvester: Adding feature: fml40::ProvidesProductionData\n",
      "DEBUG:app_logger:Adding feature: fml40::ProvidesProductionData\n",
      "2020-10-09 07:47:52,174 - DEBUG - my_harvester: Adding feature: fml40::AcceptsFellingJobs\n",
      "DEBUG:app_logger:Adding feature: fml40::AcceptsFellingJobs\n",
      "2020-10-09 07:47:52,178 - DEBUG - my_harvester: Adding feature: ml40::Composite\n",
      "DEBUG:app_logger:Adding feature: ml40::Composite\n",
      "2020-10-09 07:47:52,184 - DEBUG - my_harvester: Creating ditigtal twin my_engine with id \n",
      "DEBUG:app_logger:Creating ditigtal twin my_engine with id \n",
      "2020-10-09 07:47:52,186 - DEBUG - my_harvester: Adding roles: ml40::Engine\n",
      "DEBUG:app_logger:Adding roles: ml40::Engine\n",
      "2020-10-09 07:47:52,189 - DEBUG - my_harvester: Adding feature: ml40::RotationalSpeed\n",
      "DEBUG:app_logger:Adding feature: ml40::RotationalSpeed\n",
      "2020-10-09 07:47:52,194 - DEBUG - my_harvester: Creating ditigtal twin my_bord_computer with id \n",
      "DEBUG:app_logger:Creating ditigtal twin my_bord_computer with id \n",
      "2020-10-09 07:47:52,196 - DEBUG - my_harvester: Adding roles: ml40::MachineUI\n",
      "DEBUG:app_logger:Adding roles: ml40::MachineUI\n"
     ]
    }
   ],
   "source": [
    "dt_ref = create_dt_ref(model=dt_model, grant_type=\"password\", secret=dt_secret, username=username, password=password,\n",
    "                       is_broker_rest=True,\n",
    "                       is_broker=True, is_repo=False)\n",
    "dt_proxy = dt_ref.proxy()"
   ]
  },
  {
   "cell_type": "markdown",
   "metadata": {},
   "source": [
    "## Run the digital twin Harvester\n",
    "The created digital twin of harvester will be launched and connect directly to S³I, until you manuelly shutdown the kernel of this notebook. Additionally, his registered services will response incoming service requests. "
   ]
  },
  {
   "cell_type": "code",
   "execution_count": 6,
   "metadata": {},
   "outputs": [
    {
     "data": {
      "text/plain": [
       "<pykka._threading.ThreadingFuture at 0x19e21e32a08>"
      ]
     },
     "execution_count": 6,
     "metadata": {},
     "output_type": "execute_result"
    },
    {
     "name": "stdout",
     "output_type": "stream",
     "text": [
      "[S³I]: Launch \u001b[92mmy_harvester\u001b[0m\n",
      "\u001b[94m[S³I][IdP]\u001b[0m: Connect with S3I-IdentityProvider\n",
      "\u001b[94m[S³I][Dir]\u001b[0m: Connect with S3I-Directory\n",
      "\u001b[94m[S³I][Broker]\u001b[0m: Connect with S3I-Broker\n"
     ]
    },
    {
     "name": "stderr",
     "output_type": "stream",
     "text": [
      "2020-10-09 07:49:26,477 - INFO - my_harvester: Checking if the felling job can be accepted.\n",
      "INFO:app_logger:Checking if the felling job can be accepted.\n",
      "2020-10-09 07:49:26,479 - INFO - my_harvester: Job accepted!\n",
      "INFO:app_logger:Job accepted!\n"
     ]
    },
    {
     "name": "stdout",
     "output_type": "stream",
     "text": [
      "\u001b[94m[S³I][Dir]\u001b[0m: Connect with S3I-Directory\n",
      "\u001b[94m[S³I][Broker]\u001b[0m: Connect with S3I-Broker\n",
      "\u001b[94m[S³I][Dir]\u001b[0m: Connect with S3I-Directory\n",
      "\u001b[94m[S³I][Broker]\u001b[0m: Connect with S3I-Broker\n"
     ]
    }
   ],
   "source": [
    "dt_proxy.run_forever()"
   ]
  }
 ],
 "metadata": {
  "kernelspec": {
   "display_name": "Python 3",
   "language": "python",
   "name": "python3"
  },
  "language_info": {
   "codemirror_mode": {
    "name": "ipython",
    "version": 3
   },
   "file_extension": ".py",
   "mimetype": "text/x-python",
   "name": "python",
   "nbconvert_exporter": "python",
   "pygments_lexer": "ipython3",
   "version": "3.7.6"
  }
 },
 "nbformat": 4,
 "nbformat_minor": 4
}
