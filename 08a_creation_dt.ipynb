{
 "cells": [
  {
   "cell_type": "markdown",
   "metadata": {},
   "source": [
    "# Creation of a digital twin \n",
    "This is a KWH application which allows creating a simple digital twin with a service using python reference implementation. All necessary modules are imported into the script, including the S³I library and reference implementation library. \n",
    "Just go to the **Cell** drop-down menu and use the **Run All** button."
   ]
  },
  {
   "cell_type": "markdown",
   "metadata": {},
   "source": [
    "First, all necessary modules are imported into the script, including the S³I library."
   ]
  },
  {
   "cell_type": "code",
   "execution_count": null,
   "metadata": {},
   "outputs": [],
   "source": [
    "import s3i\n",
    "import json\n",
    "import uuid\n",
    "import jwt\n",
    "import time\n",
    "import os\n",
    "import base64 \n",
    "import getpass\n",
    "import requests\n",
    "import collections\n",
    "from threading import Thread, Event\n",
    "import sys\n",
    "from tools import print_with_timestamp, check_message_encryption, yes, no## Configure the notebook"
   ]
  },
  {
   "cell_type": "markdown",
   "metadata": {},
   "source": [
    "## Configure the notebook\n",
    "In order to use the S³I this notebook needs a client id and the respective secret. Those are already prepared for you. You need to enter your username and password in the following input fields in order to assign this notebook to your personal KWH application. "
   ]
  },
  {
   "cell_type": "code",
   "execution_count": null,
   "metadata": {},
   "outputs": [],
   "source": [
    "print_with_timestamp(\"KWH application to create a dt, please log in!\")\n",
    "username = input('[S3I]: Please enter your username:').strip(',\" ')\n",
    "password = getpass.getpass('[S3I]: Please enter the password:')\n",
    "print_with_timestamp(\"Your credentials are sent to S3I IdentityProvider.\")\n",
    "s3i_identity_provider = s3i.IdentityProvider(grant_type='password', \n",
    "                                             identity_provider_url=\"https://idp.s3i.vswf.dev/\",\n",
    "                                             realm='KWH',\n",
    "                                             client_id=dt_creation_app_id,\n",
    "                                             client_secret=dt_creation_app_secret,\n",
    "                                             username=username,\n",
    "                                             password=password)\n",
    "access_token = s3i_identity_provider.get_token(s3i.TokenType.ACCESS_TOKEN)\n",
    "\n",
    "''' decode the access token'''\n",
    "parsed_username = jwt.decode(access_token, verify=False)[\"preferred_username\"]\n",
    "\n",
    "print_with_timestamp(\"Token received, \" + parsed_username + \" logged in.\")"
   ]
  },
  {
   "cell_type": "markdown",
   "metadata": {},
   "source": [
    "## Create an identity for your digital twin\n",
    "your digital twin needs also an identify, which can be created using config rest api. "
   ]
  }
 ],
 "metadata": {
  "kernelspec": {
   "display_name": "Python 3",
   "language": "python",
   "name": "python3"
  },
  "language_info": {
   "codemirror_mode": {
    "name": "ipython",
    "version": 3
   },
   "file_extension": ".py",
   "mimetype": "text/x-python",
   "name": "python",
   "nbconvert_exporter": "python",
   "pygments_lexer": "ipython3",
   "version": "3.7.6"
  }
 },
 "nbformat": 4,
 "nbformat_minor": 4
}
