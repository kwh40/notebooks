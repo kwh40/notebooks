{
 "cells": [
  {
   "cell_type": "markdown",
   "metadata": {},
   "source": [
    "# HMI to communicate with the created digital twin\n",
    "This is a KWH HMI which allows to communicate with the digital twin, which was created and launched in the 08a notebook. All necessary modules are imported into the script, including the S³I library and ml40 reference implementation. This Notebook acts as an HMI in terms of the S³I and a client in terms of OAuth2 authentication.\n",
    "Just go to the Cell drop-down menu and click on the Run All button."
   ]
  },
  {
   "cell_type": "code",
   "execution_count": null,
   "metadata": {},
   "outputs": [],
   "source": [
    "import s3i\n",
    "import json\n",
    "import requests\n",
    "import getpass\n",
    "import uuid\n",
    "from tools import print_with_timestamp\n",
    "from ml.tools import find_broker_endpoint, make_thing_config, load_config, make_feature_config\n",
    "from ml.dt_factory import create_dt_ref, create_feature_ref\n",
    "from ml.fml40.features.properties.values.documents.jobs.felling_job import FellingJob\n",
    "from ml.identifier import ID\n",
    "from ml.app_logger import setup_logger"
   ]
  },
  {
   "cell_type": "markdown",
   "metadata": {},
   "source": [
    "## Configure the notebook\n",
    "In order to assign this notebook to your own HMI it needs a client id and the respective secret.In the next steps you should enter the id and the secret of your HMI in the following input fields."
   ]
  },
  {
   "cell_type": "code",
   "execution_count": null,
   "metadata": {},
   "outputs": [],
   "source": [
    "print_with_timestamp(\"Assign a client to this notebook. (The id of your HMI)\")\n",
    "hmi_id = input('[S3I]: Please enter your HMI id:').strip(',\" ')\n",
    "hmi_secret = getpass.getpass('[S3I]: Please enter your HMI secret:').strip(',\" ')\n",
    "print_with_timestamp(\"HMI id and secret are set.\")"
   ]
  },
  {
   "cell_type": "markdown",
   "metadata": {},
   "source": [
    "Next, you have to enter your username and password to authenticate yourself in S³I. With your entered username and password a hmi reference will be created."
   ]
  },
  {
   "cell_type": "code",
   "execution_count": null,
   "metadata": {},
   "outputs": [],
   "source": [
    "print_with_timestamp(\"This is a KWH HMI, please log in!\")\n",
    "username = input('[S3I]: Please enter your username:').strip(',\" ')\n",
    "password = getpass.getpass('[S3I]: Please enter the password:')\n",
    "print_with_timestamp(\"Your username and password are set.\")"
   ]
  },
  {
   "cell_type": "markdown",
   "metadata": {},
   "source": [
    "## Build and load the HMI JSON file \n",
    "A HMI reference can be created and launched using fml40 reference implementation library after the setting of the user credentials. All defined fml40 roles, functionalities and values etc. are respectively modelled according to the fml40 language. Next, you can create a JSON file that can be loaded to build a HMI reference."
   ]
  },
  {
   "cell_type": "code",
   "execution_count": null,
   "metadata": {},
   "outputs": [],
   "source": [
    "hmi_name = \"my HMI\"\n",
    "config_file_name = make_thing_config(dt_id=hmi_id, name=hmi_name, roles=[{\"class\": \"ml40::HMI\"}])\n",
    "hmi_model = load_config('configs/{}'.format(config_file_name))\n",
    "hmi_ref = create_dt_ref(model=hmi_model, grant_type=\"password\", secret=hmi_secret,\n",
    "                        username=username, password=password, \n",
    "                        is_broker=True, is_repo=False, is_broker_rest=True)\n",
    "hmi_proxy = hmi_ref.proxy()"
   ]
  },
  {
   "cell_type": "code",
   "execution_count": null,
   "metadata": {},
   "outputs": [],
   "source": [
    "## Setup logger\n",
    "setup_logger(hmi_name)"
   ]
  },
  {
   "cell_type": "markdown",
   "metadata": {},
   "source": [
    "## Run the HMI \n",
    "The created HMI is going to be launched in the following step. When the run_forever function is called, the HMI reference is started and meanwhile his listener is also started to receive the messages via S³I Broker. Additionally you can enter the id of the previously created digital twin as receiver. "
   ]
  },
  {
   "cell_type": "code",
   "execution_count": null,
   "metadata": {},
   "outputs": [],
   "source": [
    "hmi_proxy.run_forever()\n",
    "receiver = input(\"[S³I]: Please enter the id of your digital twin: \")"
   ]
  },
  {
   "cell_type": "markdown",
   "metadata": {},
   "source": [
    "## Edit a felling job\n",
    "we use this HMI in the next steps to create a felling job and then send it to the created digital twin."
   ]
  },
  {
   "cell_type": "code",
   "execution_count": null,
   "metadata": {},
   "outputs": [],
   "source": [
    "subFeatures = [{\n",
    "            \"class\": \"fml40::Assortment\",\n",
    "            \"grade\": \"fl\",\n",
    "            \"name\": \"Stammholz Abschnitte\",\n",
    "            \"subFeatures\": [\n",
    "                {\n",
    "                    \"class\": \"fml40::ThicknessClass\",\n",
    "                    \"name\": \">\"\n",
    "                },\n",
    "                {\n",
    "                    \"class\": \"fml40::WoodQuality\",\n",
    "                    \"name\": \"B-C\"\n",
    "                },\n",
    "                {\n",
    "                    \"class\": \"fml40::HarvestingParameters\",\n",
    "                    \"cuttingLengths\": 20\n",
    "                },\n",
    "                {\n",
    "                    \"class\": \"fml40::TreeType\",\n",
    "                    \"name\": \"Spruce\",\n",
    "                    \"conifer\": True\n",
    "                },\n",
    "                {\n",
    "                    \"class\": \"fml40::HarvestedVolume\",\n",
    "                    \"volume\": 140\n",
    "                }\n",
    "            ]\n",
    "        }]\n",
    "feature_config_json = make_feature_config(class_name=\"fml40::FellingJob\", subFeatures=subFeatures)\n",
    "felling_job_ref = create_feature_ref(model=feature_config_json, thing_ref=hmi_ref)\n",
    "felling_job_proxy = felling_job_ref.proxy()\n",
    "\n",
    "print_with_timestamp(\"Felling job created:\\n\" + json.dumps(felling_job_proxy.to_json().get(), indent=2))"
   ]
  },
  {
   "cell_type": "markdown",
   "metadata": {},
   "source": [
    "## Send a service request to your digital twin\n",
    "In the follow steps we will show you how to edit a S3I-B ServiceRequest to call a service function in your digital twin. As prepared you can ask your dt to accept the felling job, query the current status of your felling job and remove a felling job from your digital twin. Just go to drop menu to run this block again to repeat sending service request again. "
   ]
  },
  {
   "cell_type": "code",
   "execution_count": null,
   "metadata": {},
   "outputs": [],
   "source": [
    "serv_req = s3i.messages.ServiceRequest()\n",
    "hmi_endpoint = find_broker_endpoint(hmi_proxy.dir.get(), hmi_id)\n",
    "service_type = input('[S3I]: What kind of service request would you like to choose? \\n<fml40::AcceptsFellingJobs/acceptJob> \\n<fml40::AcceptsFellingJobs/queryJobStatus> \\n<fml40::AcceptsFellingJobs/removeJob> \\n')\n",
    "\n",
    "def make_ser_param(service_type):\n",
    "    if \"fml40::AcceptsFellingJobs/acceptJob\" in service_type: \n",
    "        parameters = {\"job\": felling_job_proxy.to_json().get()}\n",
    "    elif \"fml40::AcceptsFellingJobs/queryJobStatus\" in service_type:\n",
    "        job_id = input(\"[S³I]: Please enter the job id to query the job status: \")\n",
    "        parameters={\"identifier\": job_id}\n",
    "    elif \"fml40::AcceptsFellingJobs/removeJob\" in service_type:\n",
    "        job_id = input(\"[S³I]: Please enter the job id to delete the job: \")\n",
    "        parameters={\"identifier\": job_id}\n",
    "    else:\n",
    "        print_with_timestamp(\"[S³I: Error in service type, please rewrite it!]\")\n",
    "        parameters = None\n",
    "    return parameters\n",
    "\n",
    "while True :\n",
    "    parameters =  make_ser_param(service_type)\n",
    "    if parameters is not None:\n",
    "        break\n",
    "        \n",
    "serv_req.fillServiceRequest(\n",
    "    senderUUID=hmi_id, receiverUUID=[receiver], sender_endpoint=hmi_endpoint,\n",
    "    serviceType=service_type,\n",
    "    parameters=parameters,\n",
    "    msgUUID=\"s3i:{}\".format(uuid.uuid4())\n",
    ")\n",
    "receiver_endpoint = find_broker_endpoint(hmi_proxy.dir.get(), thing_id=receiver)\n",
    "resp = hmi_proxy.broker.get().send([receiver_endpoint], json.dumps(serv_req.msg))"
   ]
  },
  {
   "cell_type": "code",
   "execution_count": null,
   "metadata": {},
   "outputs": [],
   "source": []
  }
 ],
 "metadata": {
  "kernelspec": {
   "display_name": "Python 3",
   "language": "python",
   "name": "python3"
  },
  "language_info": {
   "codemirror_mode": {
    "name": "ipython",
    "version": 3
   },
   "file_extension": ".py",
   "mimetype": "text/x-python",
   "name": "python",
   "nbconvert_exporter": "python",
   "pygments_lexer": "ipython3",
   "version": "3.7.6"
  }
 },
 "nbformat": 4,
 "nbformat_minor": 4
}
