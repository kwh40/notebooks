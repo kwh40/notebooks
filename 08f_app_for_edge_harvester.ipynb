{
 "cells": [
  {
   "cell_type": "markdown",
   "metadata": {},
   "source": [
    "# Communicate with your digital twin: Edge harvester\n",
    "This is a enterprise application which allows to communicate with the edge harvester launched in the notebook 08e via S³I-B protocol. This Notebook acts as an application in terms of the S³I and a client in terms of OAuth2 authentication.\n",
    "Just go to the **Cell** drop-down menu and click on the **Run All** button."
   ]
  },
  {
   "cell_type": "code",
   "execution_count": null,
   "metadata": {},
   "outputs": [],
   "source": [
    "import s3i\n",
    "import json\n",
    "import getpass\n",
    "import uuid\n",
    "import os \n",
    "from tools import print_with_timestamp, yes, no\n",
    "import ml "
   ]
  },
  {
   "cell_type": "code",
   "execution_count": null,
   "metadata": {},
   "outputs": [],
   "source": [
    "%%html\n",
    "<img src=\"harvester_images/folie_2_3.png\", width=1000, height=1000>"
   ]
  },
  {
   "cell_type": "markdown",
   "metadata": {},
   "source": [
    "## Configure the notebook\n",
    "In order to assign this notebook to your private application it needs a client id and the respective secret. In the following input fields, you can enter the id and the secret of your application."
   ]
  },
  {
   "cell_type": "code",
   "execution_count": null,
   "metadata": {},
   "outputs": [],
   "source": [
    "print_with_timestamp(\"Assign a client to this notebook. (The id of your application)\")\n",
    "app_id = input('[S3I]: Please enter your application id:').strip(',\" ')\n",
    "app_secret = getpass.getpass('[S3I]: Please enter your application secret:').strip(',\" ')\n",
    "print_with_timestamp(\"application id and secret are set.\")"
   ]
  },
  {
   "cell_type": "markdown",
   "metadata": {},
   "source": [
    "Next, you have to enter your username and password to authenticate yourself in S³I. "
   ]
  },
  {
   "cell_type": "code",
   "execution_count": null,
   "metadata": {},
   "outputs": [],
   "source": [
    "print_with_timestamp(\"This is a enterprise application, please log in!\")\n",
    "username = input('[S3I]: Please enter your username:').strip(',\" ')\n",
    "password = getpass.getpass('[S3I]: Please enter the password:')\n",
    "print_with_timestamp(\"Your username and password are set.\")"
   ]
  },
  {
   "cell_type": "markdown",
   "metadata": {},
   "source": [
    "## Build and load\n",
    "Analogously to the harvester, a application can also be created and launched using fml40 reference implementation library. All defined roles, functionalities and values etc. are respectively implemented according to the fml40 language. Next, a JSON file for the application is created and loaded into the notebook."
   ]
  },
  {
   "cell_type": "code",
   "execution_count": null,
   "metadata": {},
   "outputs": [],
   "source": [
    "app_name = \"my_app_edge\"\n",
    "config_path = os.path.abspath(os.path.join(\"\", \"configs\"))\n",
    "config_file_name = ml.make_thing_config(thing_id=app_id, name=app_name, roles=[{\"class\": \"ml40::App\"}],\n",
    "                                     config_path=config_path)\n",
    "app_model = ml.load_config(config_filepath=os.path.join(config_path, config_file_name))\n",
    "app = ml.create_thing(\n",
    "                    model=app_model, grant_type=\"password\", secret=app_secret,\n",
    "                    username=username, password=password, \n",
    "                    is_broker=True, is_repo=False, is_broker_rest=True\n",
    "                   )"
   ]
  },
  {
   "cell_type": "markdown",
   "metadata": {},
   "source": [
    "## Setup a loger for the App"
   ]
  },
  {
   "cell_type": "code",
   "execution_count": null,
   "metadata": {},
   "outputs": [],
   "source": [
    "ml.setup_logger(app_name)"
   ]
  },
  {
   "cell_type": "markdown",
   "metadata": {},
   "source": [
    "## Run the App \n",
    "The created App is going to be launched in the following step. When the run_forever function is called, the App is started, and meanwhile its listener is also started to receive the messages sent to it via S³I Broker. Additionally, you can specific the receiver, with whom it will communicate. "
   ]
  },
  {
   "cell_type": "code",
   "execution_count": null,
   "metadata": {},
   "outputs": [],
   "source": [
    "app.run_forever()\n",
    "config_path = os.path.abspath(os.path.join(\"\", \"configs\"))\n",
    "harvester_name = input(\"[S³I]: Please enter the name of your harvester: (my_edge_harvester) \")\n",
    "cred_filepath = os.path.join(config_path, \"{}_cred.json\".format(harvester_name))\n",
    "with open(cred_filepath) as file:\n",
    "    cred = json.load(file)\n",
    "receiver = cred.get(\"identifier\")\n",
    "app_endpoint = ml.find_broker_endpoint(app.dir, app_id)\n",
    "receiver_endpoint = ml.find_broker_endpoint(app.dir, thing_id=receiver)"
   ]
  },
  {
   "cell_type": "markdown",
   "metadata": {},
   "source": [
    "## Get the directory entry of the edge harvester"
   ]
  },
  {
   "cell_type": "code",
   "execution_count": null,
   "metadata": {},
   "outputs": [],
   "source": [
    "%%html\n",
    "<img src=\"harvester_images/dir.png\", width=300, height=300>"
   ]
  },
  {
   "cell_type": "code",
   "execution_count": null,
   "metadata": {},
   "outputs": [],
   "source": [
    "print_with_timestamp(\"The directory entry of the edge harvester: \" + json.dumps(app.dir.queryThingIDBased(thingID=receiver), indent=2))"
   ]
  },
  {
   "cell_type": "markdown",
   "metadata": {},
   "source": [
    "## Communicate with your edge harvester\n",
    "The following steps refer to the communication the the created edge harvester using S³I-B protocol.  "
   ]
  },
  {
   "cell_type": "code",
   "execution_count": null,
   "metadata": {},
   "outputs": [],
   "source": [
    "%%html\n",
    "<img src=\"harvester_images/edge.png\", width=500, height=500>"
   ]
  },
  {
   "cell_type": "markdown",
   "metadata": {},
   "source": [
    "## Send a S³I-B ServiceRequest to your edge harvester\n",
    "\n",
    "In the following, we will show you how to edit a S3I-B ServiceRequest to call a service function in your edge harvester. As prepared you can ask your harvester to accept the felling job, query the current status of your felling job and remove a felling job from the job list."
   ]
  },
  {
   "cell_type": "markdown",
   "metadata": {},
   "source": [
    "### Edit a felling job\n",
    "A felling job can be created using python reference implementation as well. We will send the job to the edge harvester within a service request."
   ]
  },
  {
   "cell_type": "code",
   "execution_count": null,
   "metadata": {},
   "outputs": [],
   "source": [
    "subFeatures = [{\n",
    "            \"class\": \"fml40::Assortment\",\n",
    "            \"grade\": \"fl\",\n",
    "            \"name\": \"Stammholz Abschnitte\",\n",
    "            \"subFeatures\": [\n",
    "                {\n",
    "                    \"class\": \"fml40::ThicknessClass\",\n",
    "                    \"name\": \">\"\n",
    "                },\n",
    "                {\n",
    "                    \"class\": \"fml40::WoodQuality\",\n",
    "                    \"name\": \"B-C\"\n",
    "                },\n",
    "                {\n",
    "                    \"class\": \"fml40::HarvestingParameters\",\n",
    "                    \"cuttingLengths\": 20\n",
    "                },\n",
    "                {\n",
    "                    \"class\": \"fml40::TreeType\",\n",
    "                    \"name\": \"Spruce\",\n",
    "                    \"conifer\": True\n",
    "                },\n",
    "                {\n",
    "                    \"class\": \"fml40::HarvestedVolume\",\n",
    "                    \"volume\": 140\n",
    "                }\n",
    "            ]\n",
    "        }]\n",
    "feature_config_json = ml.make_feature_config(class_name=\"fml40::FellingJob\", subFeatures=subFeatures)\n",
    "felling_job = ml.build_feature(feature=feature_config_json)\n",
    "\n",
    "print_with_timestamp(\"Felling job created:\\n\" + json.dumps(felling_job.to_json(), indent=2))"
   ]
  },
  {
   "cell_type": "markdown",
   "metadata": {},
   "source": [
    "### Make a S³I-B SerivceRequest"
   ]
  },
  {
   "cell_type": "code",
   "execution_count": null,
   "metadata": {},
   "outputs": [],
   "source": [
    "def make_ser_param_type():\n",
    "    \"\"\"\n",
    "    This function is used to make the service parameters and type for a S³I-B service request\n",
    "    \"\"\"\n",
    "    while True:\n",
    "        service_type = input('[S3I]: What kind of service request would you like to choose? \\n<fml40::AcceptsFellingJobs/acceptJob> \\n<fml40::AcceptsFellingJobs/queryJobStatus> \\n<fml40::AcceptsFellingJobs/removeJob> \\n')\n",
    "        if \"fml40::AcceptsFellingJobs/acceptJob\" in service_type: \n",
    "            parameters = {\"job\": felling_job.to_json()}\n",
    "        elif \"fml40::AcceptsFellingJobs/queryJobStatus\" in service_type:\n",
    "            job_id = input(\"[S³I]: Please enter the job id to query the job status: \")\n",
    "            parameters={\"identifier\": job_id}\n",
    "        elif \"fml40::AcceptsFellingJobs/removeJob\" in service_type:\n",
    "            job_id = input(\"[S³I]: Please enter the job id to delete the job: \")\n",
    "            parameters={\"identifier\": job_id}\n",
    "        else:\n",
    "            print_with_timestamp(\"[S³I]: Error in service type, please rewrite it!\")\n",
    "            parameters = None\n",
    "        \n",
    "        if parameters is None:\n",
    "            continue\n",
    "        else:\n",
    "            return parameters, service_type\n",
    "        \n",
    "def prepare_service_req():\n",
    "    serv_req = s3i.messages.ServiceRequest()\n",
    "    parameters, service_type = make_ser_param_type()\n",
    "    serv_req.fillServiceRequest(\n",
    "        senderUUID=app_id, receiverUUID=[receiver], sender_endpoint=app_endpoint,\n",
    "        serviceType=service_type,\n",
    "        parameters=parameters,\n",
    "        msgUUID=\"s3i:{}\".format(uuid.uuid4())\n",
    "    )\n",
    "    return serv_req.msg\n"
   ]
  },
  {
   "cell_type": "markdown",
   "metadata": {},
   "source": [
    "### Send the S³I-B ServiceRequest"
   ]
  },
  {
   "cell_type": "code",
   "execution_count": null,
   "metadata": {},
   "outputs": [],
   "source": [
    "resp = app.broker.send([receiver_endpoint], json.dumps(prepare_service_req()))\n",
    "while True: \n",
    "    send_serv_again = input(\"[S3I]: Do you want to send a service request again(j/n): \")\n",
    "    if send_serv_again in yes:\n",
    "        resp = app.broker.send([receiver_endpoint], json.dumps(prepare_service_req()))\n",
    "    elif send_serv_again in no:\n",
    "        break"
   ]
  },
  {
   "cell_type": "markdown",
   "metadata": {},
   "source": [
    "## Send a S³I-B GetValueRequest to your edge harvester\n",
    "In addition, the edge harvester is supposed to handle a get value request. As below we prepare and send a S³I-B GetValueRequest to the harvester and wait for the corresponding GetValueReply. "
   ]
  },
  {
   "cell_type": "code",
   "execution_count": null,
   "metadata": {},
   "outputs": [],
   "source": [
    "def prepare_get_value_req():\n",
    "    getv_req = s3i.GetValueRequest()\n",
    "    path = input(\"[S³I]: Please enter the attribute path that you want to query: \\ne.g. [] \\n[attributes/name] \\n[attributes/features/ml40::Location/longitude] \\n[attributes/features/ml40::Composite/targets/ml40::Engine/features/ml40::RotationalSpeed/rpm] \")\n",
    "    getv_req.fillGetValueRequest(\n",
    "        senderUUID=app_id, receiverUUID=[receiver], sender_endpoint=app_endpoint,\n",
    "        attributePath=path, msgUUID=\"s3i:{}\".format(uuid.uuid4())\n",
    "    )\n",
    "    receiver_endpoint = ml.find_broker_endpoint(app.dir, thing_id=receiver)\n",
    "    return getv_req.msg\n",
    "\n",
    "app.broker.send([receiver_endpoint], json.dumps(prepare_get_value_req()))\n",
    "while True: \n",
    "    send_getv_again = input(\"[S3I]: Do you want to send a get value request again(j/n): \")\n",
    "    if send_getv_again in yes:\n",
    "        app.broker.send([receiver_endpoint], json.dumps(prepare_get_value_req()))\n",
    "    elif send_getv_again in no:\n",
    "        break"
   ]
  }
 ],
 "metadata": {
  "kernelspec": {
   "display_name": "Python 3",
   "language": "python",
   "name": "python3"
  },
  "language_info": {
   "codemirror_mode": {
    "name": "ipython",
    "version": 3
   },
   "file_extension": ".py",
   "mimetype": "text/x-python",
   "name": "python",
   "nbconvert_exporter": "python",
   "pygments_lexer": "ipython3",
   "version": "3.7.6"
  }
 },
 "nbformat": 4,
 "nbformat_minor": 4
}
