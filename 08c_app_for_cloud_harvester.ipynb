{
 "cells": [
  {
   "cell_type": "markdown",
   "metadata": {},
   "source": [
    "# Communicate with your digital twin: Cloud harvester\n",
    "This is a enterprise application which allows to access to your digital twin which is launched in the S³I Repository as cloud DT. This Notebook acts as an application in terms of the S³I and a client in terms of OAuth2 authentication.\n",
    "Just go to the **Cell** drop-down menu and click on the **Run All** button."
   ]
  },
  {
   "cell_type": "code",
   "execution_count": null,
   "metadata": {},
   "outputs": [],
   "source": [
    "import s3i\n",
    "import json\n",
    "import getpass\n",
    "import os \n",
    "from tools import print_with_timestamp, yes, no\n",
    "import ml\n",
    "#from ml.tools import find_broker_endpoint, make_thing_config, load_config\n",
    "#from ml.dt_factory import create_thing\n",
    "#from ml.app_logger import setup_logger"
   ]
  },
  {
   "cell_type": "code",
   "execution_count": null,
   "metadata": {},
   "outputs": [],
   "source": [
    "%%html\n",
    "<img src=\"harvester_images/folie_1_3.png\", width=1000, height=1000>"
   ]
  },
  {
   "cell_type": "markdown",
   "metadata": {},
   "source": [
    "## Configure the notebook\n",
    "In order to assign this notebook to your private application it needs a client id and the respective secret. In the following input fields, you can enter the id and the secret of your application."
   ]
  },
  {
   "cell_type": "code",
   "execution_count": null,
   "metadata": {},
   "outputs": [],
   "source": [
    "print_with_timestamp(\"Assign a client to this notebook. (The id of your application)\")\n",
    "app_id = input('[S3I]: Please enter your application id:').strip(',\" ')\n",
    "app_secret = getpass.getpass('[S3I]: Please enter your application secret:').strip(',\" ')\n",
    "print_with_timestamp(\"App id and secret are set.\")"
   ]
  },
  {
   "cell_type": "markdown",
   "metadata": {},
   "source": [
    "Next, you have to enter your username and password to authenticate yourself in S³I. "
   ]
  },
  {
   "cell_type": "code",
   "execution_count": null,
   "metadata": {},
   "outputs": [],
   "source": [
    "print_with_timestamp(\"This is a enterprise app, please log in!\")\n",
    "username = input('[S3I]: Please enter your username:').strip(',\" ')\n",
    "password = getpass.getpass('[S3I]: Please enter the password:')\n",
    "print_with_timestamp(\"Your username and password are set.\")"
   ]
  },
  {
   "cell_type": "markdown",
   "metadata": {},
   "source": [
    "## Build and load\n",
    "Analogously to the harvester, a application can also be created and launched using fml40 reference implementation library. All defined roles, functionalities and values etc. are respectively implemented according to the fml40 language. Next, a JSON file for the app is created and loaded into the notebook."
   ]
  },
  {
   "cell_type": "code",
   "execution_count": null,
   "metadata": {},
   "outputs": [],
   "source": [
    "app_name = \"my_app_cloud\"\n",
    "config_path = os.path.abspath(os.path.join(\"\", \"configs\"))\n",
    "config_file_name = ml.make_thing_config(thing_id=app_id, name=app_name, roles=[{\"class\": \"ml40::App\"}],\n",
    "                                     config_path=config_path)\n",
    "app_model = ml.load_config(config_filepath=os.path.join(config_path, config_file_name))\n",
    "app = ml.create_thing(\n",
    "                    model=app_model, grant_type=\"password\", secret=app_secret,\n",
    "                    username=username, password=password, \n",
    "                    is_broker=False, is_repo=False\n",
    "                    )"
   ]
  },
  {
   "cell_type": "markdown",
   "metadata": {},
   "source": [
    "## Setup a loger for the App"
   ]
  },
  {
   "cell_type": "code",
   "execution_count": null,
   "metadata": {},
   "outputs": [],
   "source": [
    "ml.setup_logger(app_name)"
   ]
  },
  {
   "cell_type": "markdown",
   "metadata": {},
   "source": [
    "## Run the application \n",
    "The created application is going to be launched in the following step. When the run_forever function is called, the application is started, and meanwhile its listener is also started to receive the messages sent to it via S³I Broker. Additionally, you can specific the receiver, with whom it will communicate. "
   ]
  },
  {
   "cell_type": "code",
   "execution_count": null,
   "metadata": {},
   "outputs": [],
   "source": [
    "app.run_forever()\n",
    "config_path = os.path.abspath(os.path.join(\"\", \"configs\"))\n",
    "harvester_name = input(\"[S³I]: Please enter the name of your harvester: (my_cloud_harvester) \")\n",
    "cred_filepath = os.path.join(config_path, \"{}_cred.json\".format(harvester_name))\n",
    "with open(cred_filepath) as file:\n",
    "    cred = json.load(file)\n",
    "receiver = cred.get(\"identifier\")\n",
    "app_endpoint = ml.find_broker_endpoint(app.dir, app_id)\n",
    "receiver_endpoint = ml.find_broker_endpoint(app.dir, thing_id=receiver)"
   ]
  },
  {
   "cell_type": "markdown",
   "metadata": {},
   "source": [
    "## Get the directory entry of the cloud harvester"
   ]
  },
  {
   "cell_type": "code",
   "execution_count": null,
   "metadata": {},
   "outputs": [],
   "source": [
    "%%html\n",
    "<img src=\"harvester_images/dir.png\", width=300, height=300>"
   ]
  },
  {
   "cell_type": "code",
   "execution_count": null,
   "metadata": {},
   "outputs": [],
   "source": [
    "print_with_timestamp(\"The dir entry of the cloud harvester: \" + json.dumps(app.dir.queryThingIDBased(thingID=receiver), indent=2))"
   ]
  },
  {
   "cell_type": "markdown",
   "metadata": {},
   "source": [
    "## Get the repository entry of the cloud harvester"
   ]
  },
  {
   "cell_type": "code",
   "execution_count": null,
   "metadata": {},
   "outputs": [],
   "source": [
    "%%html\n",
    "<img src=\"harvester_images/repo.png\", width=500, height=500>"
   ]
  },
  {
   "cell_type": "code",
   "execution_count": null,
   "metadata": {},
   "outputs": [],
   "source": [
    "print_with_timestamp(\"The repo entry of the cloud harvester\" + json.dumps(app.repo.queryThingIDBased(thingID=receiver), indent=2))"
   ]
  }
 ],
 "metadata": {
  "kernelspec": {
   "display_name": "Python 3",
   "language": "python",
   "name": "python3"
  },
  "language_info": {
   "codemirror_mode": {
    "name": "ipython",
    "version": 3
   },
   "file_extension": ".py",
   "mimetype": "text/x-python",
   "name": "python",
   "nbconvert_exporter": "python",
   "pygments_lexer": "ipython3",
   "version": "3.7.6"
  }
 },
 "nbformat": 4,
 "nbformat_minor": 4
}
