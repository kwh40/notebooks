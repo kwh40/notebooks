{
 "cells": [
  {
   "cell_type": "markdown",
   "metadata": {},
   "source": [
    "# Communicate with your digital twin: Cloud harvester\n",
    "This is a enterprise application which allows to access to your digital twin which is launched in the notebook 08b. This Notebook acts as an application in terms of the S³I and a client in terms of OAuth2 authentication.\n",
    "Just go to the **Cell** drop-down menu and click on the **Run All** button."
   ]
  },
  {
   "cell_type": "code",
   "execution_count": null,
   "metadata": {},
   "outputs": [],
   "source": [
    "import s3i\n",
    "import json\n",
    "import getpass\n",
    "import os \n",
    "from tools import print_with_timestamp, yes, no\n",
    "from ml.tools import find_broker_endpoint, make_thing_config, load_config\n",
    "from ml.dt_factory import create_dt_ref\n",
    "from ml.app_logger import setup_logger"
   ]
  },
  {
   "cell_type": "markdown",
   "metadata": {},
   "source": [
    "## Configure the notebook\n",
    "In order to assign this notebook to your private application it needs a client id and the respective secret. In the following input fields, you can enter the id and the secret of your application."
   ]
  },
  {
   "cell_type": "code",
   "execution_count": null,
   "metadata": {},
   "outputs": [],
   "source": [
    "print_with_timestamp(\"Assign a client to this notebook. (The id of your application)\")\n",
    "app_id = input('[S3I]: Please enter your application id:').strip(',\" ')\n",
    "app_secret = getpass.getpass('[S3I]: Please enter your application secret:').strip(',\" ')\n",
    "print_with_timestamp(\"App id and secret are set.\")"
   ]
  },
  {
   "cell_type": "markdown",
   "metadata": {},
   "source": [
    "Next, you have to enter your username and password to authenticate yourself in S³I. "
   ]
  },
  {
   "cell_type": "code",
   "execution_count": null,
   "metadata": {},
   "outputs": [],
   "source": [
    "print_with_timestamp(\"This is a enterprise app, please log in!\")\n",
    "username = input('[S3I]: Please enter your username:').strip(',\" ')\n",
    "password = getpass.getpass('[S3I]: Please enter the password:')\n",
    "print_with_timestamp(\"Your username and password are set.\")"
   ]
  },
  {
   "cell_type": "markdown",
   "metadata": {},
   "source": [
    "## Build and load\n",
    "Analogously to the digital twin, a application can also be created and launched using fml40 reference implementation library. All defined roles, functionalities and values etc. are respectively implemented according to the fml40 language. Next, a JSON file for the app is created and loaded into the notebook."
   ]
  },
  {
   "cell_type": "code",
   "execution_count": null,
   "metadata": {},
   "outputs": [],
   "source": [
    "app_name = \"my_app_cloud\"\n",
    "root_path = os.path.abspath(\"\")\n",
    "config_file_name = make_thing_config(dt_id=app_id, name=app_name, roles=[{\"class\": \"ml40::App\"}],\n",
    "                                    root=root_path)\n",
    "app_model = load_config(config_file_name, root_path)\n",
    "app = create_dt_ref(model=app_model, grant_type=\"password\", secret=app_secret,\n",
    "                        username=username, password=password, \n",
    "                        is_broker=False, is_repo=False)"
   ]
  },
  {
   "cell_type": "markdown",
   "metadata": {},
   "source": [
    "## Setup a loger for the App"
   ]
  },
  {
   "cell_type": "code",
   "execution_count": null,
   "metadata": {},
   "outputs": [],
   "source": [
    "setup_logger(app_name)"
   ]
  },
  {
   "cell_type": "markdown",
   "metadata": {},
   "source": [
    "## Run the application \n",
    "The created application is going to be launched in the following step. When the run_forever function is called, the application is started, and meanwhile its listener is also started to receive the messages sent to it via S³I Broker. Additionally, you can specific the receiver, with whom it will communicate. "
   ]
  },
  {
   "cell_type": "code",
   "execution_count": null,
   "metadata": {},
   "outputs": [],
   "source": [
    "app.run_forever()\n",
    "receiver = input(\"[S³I]: Please enter the id of your digital twin: \")\n",
    "app_endpoint = find_broker_endpoint(app.dir, app_id)\n",
    "receiver_endpoint = find_broker_endpoint(app.dir, thing_id=receiver)"
   ]
  },
  {
   "cell_type": "markdown",
   "metadata": {},
   "source": [
    "## Get the thing entry of the digital twin"
   ]
  },
  {
   "cell_type": "code",
   "execution_count": null,
   "metadata": {},
   "outputs": [],
   "source": [
    "%%html\n",
    "<img src=\"harvester_images/dir.png\", width=500, height=500>"
   ]
  },
  {
   "cell_type": "code",
   "execution_count": null,
   "metadata": {},
   "outputs": [],
   "source": [
    "print_with_timestamp(\"The thing entry of the digital twin: \" + json.dumps(app.dir.queryThingIDBased(thingID=receiver), indent=2))"
   ]
  },
  {
   "cell_type": "markdown",
   "metadata": {},
   "source": [
    "## Get the cloud copy of the digital twin "
   ]
  },
  {
   "cell_type": "code",
   "execution_count": null,
   "metadata": {},
   "outputs": [],
   "source": [
    "%%html\n",
    "<img src=\"harvester_images/repo.png\", width=500, height=500>"
   ]
  },
  {
   "cell_type": "code",
   "execution_count": null,
   "metadata": {},
   "outputs": [],
   "source": [
    "print_with_timestamp(\"The cloud copy of the digital twin\" + json.dumps(app.repo.queryThingIDBased(thingID=receiver), indent=2))"
   ]
  }
 ],
 "metadata": {
  "kernelspec": {
   "display_name": "Python 3",
   "language": "python",
   "name": "python3"
  },
  "language_info": {
   "codemirror_mode": {
    "name": "ipython",
    "version": 3
   },
   "file_extension": ".py",
   "mimetype": "text/x-python",
   "name": "python",
   "nbconvert_exporter": "python",
   "pygments_lexer": "ipython3",
   "version": "3.8.5"
  }
 },
 "nbformat": 4,
 "nbformat_minor": 4
}
