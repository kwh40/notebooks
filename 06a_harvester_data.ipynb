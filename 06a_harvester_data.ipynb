{
 "cells": [
  {
   "cell_type": "markdown",
   "metadata": {},
   "source": [
    "# Harvester GetValueRequest\n",
    "This is a KWH HMI which allows to request the harvester's data. This Notebook acts as an **HMI** in terms of the S³I and a **client** in terms of OAuth authentication. Enter the id of your HMI with the corresponding secret as *hmi* in this script to make this notebook to your HMI. Running this notebook, you will authorize your HMI to call up the harvester's data. \n",
    "Just go to the **Cell** drop-down menu and use the **Run All** button."
   ]
  },
  {
   "cell_type": "markdown",
   "metadata": {},
   "source": [
    "First, all necessary modules are imported into the script, including the S³I library."
   ]
  },
  {
   "cell_type": "code",
   "execution_count": null,
   "metadata": {},
   "outputs": [],
   "source": [
    "import s3i\n",
    "import json\n",
    "import uuid\n",
    "import jwt\n",
    "import time\n",
    "import os\n",
    "import base64\n",
    "import getpass\n",
    "import requests\n",
    "import collections\n",
    "from IPython.display import Image\n",
    "from tools import print_with_timestamp, check_message_encryption, yes, no"
   ]
  },
  {
   "cell_type": "markdown",
   "metadata": {},
   "source": [
    "## Configure the notebook\n",
    "In the first step, OAuth2 specified client ID and secret for the notebook are imported, so that the notebook can be assigned as a OAuth2-client and reached via the S3I. "
   ]
  },
  {
   "cell_type": "code",
   "execution_count": null,
   "metadata": {},
   "outputs": [],
   "source": [
    "hmiId = \"s3i:01437be2-7cc6-4cbd-97b5-684402c5a177\"\n",
    "hmiSecret = \"d271b34b-f747-40de-a2f8-0a8637a2114b\""
   ]
  },
  {
   "cell_type": "markdown",
   "metadata": {},
   "source": [
    "Next, you have to enter your username and password. With your access data a token is requested which authorizes this client (your HMI) to call up the harvester's data on your behalf."
   ]
  },
  {
   "cell_type": "code",
   "execution_count": null,
   "metadata": {},
   "outputs": [],
   "source": [
    "print_with_timestamp(\"DEMO harvester, please log in!\")\n",
    "username = input('[S3I]: Please enter your username:').strip(',\" ')\n",
    "password = getpass.getpass('[S3I]: Please enter the password:')\n",
    "print_with_timestamp(\"Your credentials are sent to S3I IdentityProvider.\")\n",
    "s3i_identity_provider = s3i.IdentityProvider(grant_type='password', \n",
    "                                             identity_provider_url=\"https://idp.s3i.vswf.dev/\",\n",
    "                                             realm='KWH',\n",
    "                                             client_id=hmiId,\n",
    "                                             client_secret=hmiSecret,\n",
    "                                             username=username,\n",
    "                                             password=password)\n",
    "access_token = s3i_identity_provider.get_token(s3i.TokenType.ACCESS_TOKEN)\n",
    "\n",
    "''' decode the access token\n",
    "'''\n",
    "parsed_username = jwt.decode(access_token, verify=False)[\n",
    "    \"preferred_username\"]\n",
    "\n",
    "print_with_timestamp(\"Token received, \" + parsed_username + \" logged in.\")"
   ]
  },
  {
   "cell_type": "markdown",
   "metadata": {},
   "source": [
    "After the token has been received, it can be used to query the endpoint of the harvester. To query the harvester in the S³I Directory, you must have the rights to view the harvester. With the creation of your S³I account you should have got this right. In case of problems please contact the S³I team (s3i@kwh40.de).\n",
    "\n",
    "Besides the endpoint of the harvester, the endpoint of this HMI is also needed to add as \"ReplyToEndpoint\" field in the request. The endpoint of this HMI is also queried from the directory, as it may have changed. By querying its own endpoint from the directory, the HMI is independent of changes made to its own endpoint. These changes then only need to be listed in the directory."
   ]
  },
  {
   "cell_type": "code",
   "execution_count": null,
   "metadata": {},
   "outputs": [],
   "source": [
    "''' authentication with JWT in S3I Directory \n",
    "'''\n",
    "\n",
    "s3i_directory = s3i.Directory(\n",
    "    s3i_dir_url=\"https://dir.s3i.vswf.dev/api/2/\", token=access_token)\n",
    "\n",
    "print_with_timestamp(\"Authentication with Token in S3I Directory successful\")\n",
    "    \n",
    "''' query the sender's endpoint\n",
    "'''\n",
    "sender_endpoints = s3i_directory.queryThingIDBased(hmiId+\"/attributes/allEndpoints\")\n",
    "for item in sender_endpoints:\n",
    "    if \"s3i:\" in item:\n",
    "        sender_endpoint = item\n",
    "    else:\n",
    "        continue"
   ]
  },
  {
   "cell_type": "markdown",
   "metadata": {},
   "source": [
    "## MessageId Storage\n",
    "The messageIds storage stores all message ids from the messages which have been sent. If a message arrives it is checked against these ids to see, if it is a response to one of these messages. If it is not a response to one a request send from this notebook, the message won't be parsed."
   ]
  },
  {
   "cell_type": "code",
   "execution_count": null,
   "metadata": {},
   "outputs": [],
   "source": [
    "messageIds = list()"
   ]
  },
  {
   "cell_type": "markdown",
   "metadata": {},
   "source": [
    "# Get Harvester S³I Directory Entry"
   ]
  },
  {
   "cell_type": "code",
   "execution_count": null,
   "metadata": {},
   "outputs": [],
   "source": [
    "%%html\n",
    "<img src=\"harvester_images/jpy_dir.png\", width=300, height=300>"
   ]
  },
  {
   "cell_type": "code",
   "execution_count": null,
   "metadata": {},
   "outputs": [],
   "source": [
    "''' query the harvesters's Id in S3I-Directory\n",
    "'''\n",
    "name = input('[S3I]: Please enter the name of harvester: \\n[mmi_fog_harvester]\\n')\n",
    "harvesterID = s3i_directory.queryAttributeBased(\n",
    "    \"name\", name)[0][\"thingId\"]\n",
    "\n",
    "''' query the entire harvesters's entry in S3I-Directory\n",
    "'''\n",
    "harvesterDir = s3i_directory.queryThingIDBased(harvesterID)\n",
    "harvesterDir = json.loads(json.dumps(harvesterDir), object_pairs_hook=collections.OrderedDict)\n",
    "print_with_timestamp(json.dumps(harvesterDir, indent=2))\n",
    "\n",
    "''' query the harvesters's endpoints in S3I-Directory\n",
    "'''\n",
    "harvesterEndpoint = s3i_directory.queryThingIDBased(harvesterID+\"/attributes/allEndpoints\")\n",
    "receivers = [harvesterID]\n",
    "receiver_endpoints = harvesterEndpoint"
   ]
  },
  {
   "cell_type": "markdown",
   "metadata": {},
   "source": [
    "# >>> *Run All below* from here to access the harvester via S3I-B GetValue messages\n",
    "## Prepared the request\n",
    "After querying the endpoints, the message is prepared. A *GetValueRequest* is instantiated and filled in."
   ]
  },
  {
   "cell_type": "code",
   "execution_count": null,
   "metadata": {},
   "outputs": [],
   "source": [
    "%%html\n",
    "<img src=\"harvester_images/jpy_broker_har.png\", width=700, height=700>"
   ]
  },
  {
   "cell_type": "code",
   "execution_count": null,
   "metadata": {
    "scrolled": true
   },
   "outputs": [],
   "source": [
    "print_with_timestamp(\"Prepare the GetValueRequest.\")\n",
    "attributePath = input(\n",
    "        '[S3I]: please enter the attribute path of the value you want to receive from the harvester. Examples: \\n<empty path, just press enter>  \\nattributes \\nfeatures \\nattributes/features/ml40::Composite/targets/ml40::Engine/features/ml40::RotationalSpeed/rpm \\nattributes/features/ml40::Location/longitude \\nattributes/features/ml40::Location/latitude\\n').strip(',\" ')\n",
    "\n",
    "msg_uuid = \"s3i:\" + str(uuid.uuid4())\n",
    "\n",
    "servReq = s3i.GetValueRequest()\n",
    "servReq.fillGetValueRequest(senderUUID=hmiId, receiverUUIDs=receivers, sender_endpoint=sender_endpoint,\n",
    "                                attributePath=attributePath, msgUUID=msg_uuid)\n",
    "print_with_timestamp(\"GetValueRequest prepared:\")\n",
    "print(json.dumps(servReq.msg, indent=2))"
   ]
  },
  {
   "cell_type": "markdown",
   "metadata": {},
   "source": [
    "## Send the request\n",
    "The HMI requests a new token to establish a connection to the broker and sends the request to the harvester's endpoint. It then checks incoming responses."
   ]
  },
  {
   "cell_type": "code",
   "execution_count": null,
   "metadata": {},
   "outputs": [],
   "source": [
    "print_with_timestamp(\"Sending the GetValueRequest to the harvester\")\n",
    "access_token = s3i_identity_provider.get_token(s3i.TokenType.ACCESS_TOKEN)\n",
    "headers = {'Content-Type': 'application/json', 'Authorization': 'Bearer ' + access_token}\n",
    "messageIds.append(servReq.msg[\"identifier\"])\n",
    "for item in receiver_endpoints:\n",
    "    if \"s3ib\" in item and \"https\" not in item:\n",
    "        s3ib_endpoint = item\n",
    "    else:\n",
    "        continue \n",
    "        \n",
    "''' send S3I-B message to S3I-Broker API\n",
    "'''\n",
    "response = requests.post(url=\"https://broker.s3i.vswf.dev/\"+s3ib_endpoint,\n",
    "                                data=json.dumps(servReq.msg), headers=headers)\n",
    "print_with_timestamp(response.text)"
   ]
  },
  {
   "cell_type": "markdown",
   "metadata": {},
   "source": [
    "## Receive the harvester's response"
   ]
  },
  {
   "cell_type": "code",
   "execution_count": null,
   "metadata": {},
   "outputs": [],
   "source": [
    "def receive():\n",
    "    print_with_timestamp(\"Checking the harvester's response\")\n",
    "    access_token = s3i_identity_provider.get_token(s3i.TokenType.ACCESS_TOKEN)\n",
    "    headers = {'Content-Type': 'application/json', 'Authorization': 'Bearer ' + access_token}\n",
    "    response = requests.get(url=\"https://broker.s3i.vswf.dev/\"+sender_endpoint , headers=headers)\n",
    "    msg_json = \"\"\n",
    "    value_json = \"\"\n",
    "    json_acceptable_string = response.text.replace(\"'\", \"\\\"\")\n",
    "    if json_acceptable_string:\n",
    "        if check_message_encryption(response.text.strip('\"')) == \"pgp\":\n",
    "            print_with_timestamp(\"You received a PGP message but this notebook can not decrypt PGP messages. Use the 03_inbox notebook to receive PGP messages.\")\n",
    "            print_with_timestamp(\"PGP Message: \" + response.text)\n",
    "            repeat()\n",
    "        else: \n",
    "            msg_json = json.loads(json_acceptable_string)\n",
    "            if msg_json[\"replyingToMessage\"] in messageIds:\n",
    "                value_json = msg_json[\"value\"]\n",
    "                messageIds.remove(msg_json[\"replyingToMessage\"])\n",
    "    else:\n",
    "        print_with_timestamp(\"The harvester did not respond yet.\")\n",
    "        repeat()\n",
    "    return msg_json, value_json\n",
    "\n",
    "def repeat():\n",
    "    decision = input(\"[S3I] Do you want to check for new messages again? [j/n]\")\n",
    "    if decision in yes:\n",
    "        receive()\n",
    "    elif decision in no:\n",
    "        print_with_timestamp(\"You do not want to check for more messages. If you want to check for new messages, just execute this cell again (Run button or SHIFT+RETURN)\")\n",
    "    else:\n",
    "        print_with_timestamp(\"I could not understand your response. If you want to check for new messages, just execute this cell again (Run button or SHIFT+RETURN)\")"
   ]
  },
  {
   "cell_type": "code",
   "execution_count": null,
   "metadata": {},
   "outputs": [],
   "source": [
    "msg, value = receive()"
   ]
  },
  {
   "cell_type": "code",
   "execution_count": null,
   "metadata": {},
   "outputs": [],
   "source": [
    "if msg:\n",
    "    msg = json.loads(json.dumps(msg), object_pairs_hook=collections.OrderedDict)\n",
    "    print_with_timestamp(\"You received a message: \" + json.dumps(msg, indent=2))\n",
    "    "
   ]
  },
  {
   "cell_type": "code",
   "execution_count": null,
   "metadata": {},
   "outputs": [],
   "source": [
    "if value:\n",
    "    value = json.loads(json.dumps(value), object_pairs_hook=collections.OrderedDict)\n",
    "    print_with_timestamp(\"Your requested value is: \" + json.dumps(value, indent=2))"
   ]
  }
 ],
 "metadata": {
  "file_extension": ".py",
  "kernelspec": {
   "display_name": "Python 3",
   "language": "python",
   "name": "python3"
  },
  "language_info": {
   "codemirror_mode": {
    "name": "ipython",
    "version": 3
   },
   "file_extension": ".py",
   "mimetype": "text/x-python",
   "name": "python",
   "nbconvert_exporter": "python",
   "pygments_lexer": "ipython3",
   "version": "3.7.5"
  },
  "mimetype": "text/x-python",
  "name": "python",
  "npconvert_exporter": "python",
  "pygments_lexer": "ipython3",
  "version": 3
 },
 "nbformat": 4,
 "nbformat_minor": 2
}
