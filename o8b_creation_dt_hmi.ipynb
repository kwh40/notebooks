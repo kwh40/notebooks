{
 "cells": [
  {
   "cell_type": "markdown",
   "metadata": {},
   "source": [
    "# HMI to communicate with the created digital twin\n",
    "This is a KWH HMI which allows to communicate with the digital twin, which was created and launched in the 08a notebook. All necessary modules are imported into the script, including the S³I library and ml40 reference implementation. This Notebook acts as an HMI in terms of the S³I and a client in terms of OAuth2 authentication.\n",
    "Just go to the Cell drop-down menu and click on the Run All button."
   ]
  },
  {
   "cell_type": "code",
   "execution_count": 1,
   "metadata": {},
   "outputs": [],
   "source": [
    "import s3i\n",
    "from ml.tools import find_broker_endpoint, make_config_file, load_config\n",
    "from ml.dt_factory import create_dt_ref\n",
    "from ml.fml40.features.properties.values.documents.jobs.felling_job import FellingJob\n",
    "import json\n",
    "import requests\n",
    "import getpass\n",
    "import uuid\n",
    "from tools import print_with_timestamp"
   ]
  },
  {
   "cell_type": "markdown",
   "metadata": {},
   "source": [
    "## Configure the notebook\n",
    "In order to assign this notebook to your own HMI it needs a client id and the respective secret.In the next steps you should enter the id and the secret of your HMI in the following input fields."
   ]
  },
  {
   "cell_type": "code",
   "execution_count": 2,
   "metadata": {},
   "outputs": [
    {
     "name": "stdout",
     "output_type": "stream",
     "text": [
      "[S3I][2020-10-06 00:03:44]: Assign a client to this notebook. (The id of your HMI)\n",
      "[S3I][2020-10-06 00:03:44]: HMI id and secret are set.\n"
     ]
    }
   ],
   "source": [
    "print_with_timestamp(\"Assign a client to this notebook. (The id of your HMI)\")\n",
    "#hmi_id = input('[S3I]: Please enter your HMI id:').strip(',\" ')\n",
    "#hmi_secret = getpass.getpass('[S3I]: Please enter your HMI secret:').strip(',\" ')\n",
    "hmi_id = \"s3i:b4f72a11-fb3d-47a3-b499-e7a88eaa5fe1\"\n",
    "hmi_secret = \"84df6340-9d64-4ae6-9076-86c224ec484a\"\n",
    "print_with_timestamp(\"HMI id and secret are set.\")"
   ]
  },
  {
   "cell_type": "markdown",
   "metadata": {},
   "source": [
    "Next, you have to enter your username and password to authenticate yourself in S³I. With your entered username and password a hmi reference will be created."
   ]
  },
  {
   "cell_type": "code",
   "execution_count": 3,
   "metadata": {},
   "outputs": [
    {
     "name": "stdout",
     "output_type": "stream",
     "text": [
      "[S3I][2020-10-06 00:03:44]: This is a KWH HMI, please log in!\n",
      "[S3I][2020-10-06 00:03:44]: Your username and password are set.\n"
     ]
    }
   ],
   "source": [
    "print_with_timestamp(\"This is a KWH HMI, please log in!\")\n",
    "#username = input('[S3I]: Please enter your username:').strip(',\" ')\n",
    "#password = getpass.getpass('[S3I]: Please enter the password:')\n",
    "print_with_timestamp(\"Your username and password are set.\")\n",
    "username = \"chen\"\n",
    "password = \"8810515\""
   ]
  },
  {
   "cell_type": "markdown",
   "metadata": {},
   "source": [
    "## Load the HMI JSON file \n",
    "A HMI reference can be created and launched using fml40 reference implementation library after the setting of the user credentials. All defined fml40 roles, functionalities and values etc. are respectively modelled according to the fml40 language. We have already prepared a JSON file that can be loaded to build a HMI reference in the next steps."
   ]
  },
  {
   "cell_type": "code",
   "execution_count": 4,
   "metadata": {},
   "outputs": [],
   "source": [
    "hmi_model = load_config('configs/{}'.format(\"config_my_hmi.json\"))\n",
    "hmi_ref = create_dt_ref(model=hmi_model, grant_type=\"password\", secret=hmi_secret,\n",
    "                        username=username, password=password, \n",
    "                        is_broker=True, is_repo=False, is_broker_rest=True)\n",
    "hmi_proxy = hmi_ref.proxy()"
   ]
  },
  {
   "cell_type": "markdown",
   "metadata": {},
   "source": [
    "## Run the HMI \n",
    "When the run_forever function is called, the HMI reference is started and meanwhile his listener is also started to receive the messages via S³I Broker. "
   ]
  },
  {
   "cell_type": "code",
   "execution_count": 5,
   "metadata": {},
   "outputs": [
    {
     "data": {
      "text/plain": [
       "<pykka._threading.ThreadingFuture at 0x2196b426088>"
      ]
     },
     "execution_count": 5,
     "metadata": {},
     "output_type": "execute_result"
    },
    {
     "name": "stdout",
     "output_type": "stream",
     "text": [
      "[S³I]: Launch \u001b[92mmy HMI\u001b[0m\n",
      "\u001b[94m[S³I][IdP]\u001b[0m: Connect with S3I-IdentityProvider\n"
     ]
    }
   ],
   "source": [
    "hmi_proxy.run_forever()"
   ]
  },
  {
   "cell_type": "markdown",
   "metadata": {},
   "source": [
    "## Send a felling job to your digital twin\n",
    "In the follow steps we will show you how to edit a S3I-B ServiceRequest in order to send a felling job to your digital twin, which was created in notebook 08a before. "
   ]
  },
  {
   "cell_type": "code",
   "execution_count": 7,
   "metadata": {},
   "outputs": [
    {
     "name": "stdout",
     "output_type": "stream",
     "text": [
      "[S³I]: Please enter the id of your digital twin: s3i:08ecc26f-2103-469c-a9d3-a1305c66ff26\n",
      "{'sender': 's3i:08ecc26f-2103-469c-a9d3-a1305c66ff26', 'identifier': 's3i:7f389fce-dc62-4a45-996f-17aa991aafd7', 'receivers': ['s3i:b4f72a11-fb3d-47a3-b499-e7a88eaa5fe1'], 'messageType': 'serviceReply', 'serviceType': 'AcceptsFellingJobs/my_accept_job_func', 'replyingToMessage': 's3i:a11ea34b-dcab-4408-a90f-9ff0ccb9240d', 'results': {'ok': True}}\n",
      "\u001b[94m[S³I][Dir]\u001b[0m: Connect with S3I-Directory\n",
      "\u001b[94m[S³I][Broker]\u001b[0m: Connect with S3I-Broker\n",
      "\u001b[94m[S³I][Dir]\u001b[0m: Connect with S3I-Directory\n",
      "\u001b[94m[S³I][Broker]\u001b[0m: Connect with S3I-Broker\n",
      "\u001b[94m[S³I][Dir]\u001b[0m: Connect with S3I-Directory\n",
      "\u001b[94m[S³I][Broker]\u001b[0m: Connect with S3I-Broker\n",
      "{'sender': 's3i:08ecc26f-2103-469c-a9d3-a1305c66ff26', 'identifier': 's3i:67482023-9abb-4f4d-b7aa-2858df26b22a', 'receivers': ['s3i:b4f72a11-fb3d-47a3-b499-e7a88eaa5fe1'], 'messageType': 'serviceReply', 'serviceType': 'AcceptsFellingJobs/my_accept_job_func', 'replyingToMessage': '6701c47c-cee7-4659-acd1-69fb57e56aa4', 'results': {'ok': False}}\n",
      "{'sender': 's3i:08ecc26f-2103-469c-a9d3-a1305c66ff26', 'identifier': 's3i:6c77ccad-a5b1-473d-a48c-69dc37f1887a', 'receivers': ['s3i:b4f72a11-fb3d-47a3-b499-e7a88eaa5fe1'], 'messageType': 'serviceReply', 'serviceType': 'AcceptsFellingJobs/my_accept_job_func', 'replyingToMessage': '327e936f-2f35-4c9d-8097-e87c5231c38c', 'results': {'ok': False}}\n",
      "\u001b[94m[S³I][Dir]\u001b[0m: Connect with S3I-Directory\n",
      "\u001b[94m[S³I][Broker]\u001b[0m: Connect with S3I-Broker\n"
     ]
    }
   ],
   "source": [
    "serv_req = s3i.messages.ServiceRequest()\n",
    "receiver = input(\"[S³I]: Please enter the id of your digital twin: \")\n",
    "hmi_endpoint = find_broker_endpoint(hmi_proxy.dir.get(), hmi_id)\n",
    "service_type = input('[S3I]: What kind of service request would you like to choose? \\n<AcceptsFellingJobs/acceptJob> \\n<AcceptsFellingJobs/queryJobStatus> \\n<AcceptsFellingJobs/removeJob>')\n",
    "if \"AcceptsFellingJobs/acceptJob\" in service_type:\n",
    "    job = FellingJob(\"\", hmi_ref)\n",
    "    parameters = {\"job\": job}\n",
    "elif \"AcceptsFellingJobs/queryJobStatus\" in service_type:\n",
    "    job_id = \"id:1111\"\n",
    "    parameters={\"id\": job_id}\n",
    "elif \"AcceptsFellingJobs/removeJob\" in service_type:\n",
    "    job_id = \"id:1111\"\n",
    "    parameters={\"id\": job_id}\n",
    "else:\n",
    "    print_with_timestamp(\"[S³I: Error in service type, please rewrite it!]\")\n",
    "    \n",
    "serv_req.fillServiceRequest(\n",
    "    senderUUID=hmi_id, receiverUUID=[receiver], sender_endpoint=hmi_endpoint,\n",
    "    serviceType=service_type,\n",
    "    parameters=parameters,\n",
    "    msgUUID=\"s3i:{}\".format(uuid.uuid4())\n",
    ")\n",
    "receiver_endpoint = find_broker_endpoint(hmi_proxy.dir.get(), thing_id=receiver)\n",
    "resp = hmi_proxy.broker.get().send([receiver_endpoint], json.dumps(serv_req.msg))"
   ]
  }
 ],
 "metadata": {
  "kernelspec": {
   "display_name": "Python 3",
   "language": "python",
   "name": "python3"
  },
  "language_info": {
   "codemirror_mode": {
    "name": "ipython",
    "version": 3
   },
   "file_extension": ".py",
   "mimetype": "text/x-python",
   "name": "python",
   "nbconvert_exporter": "python",
   "pygments_lexer": "ipython3",
   "version": "3.7.6"
  }
 },
 "nbformat": 4,
 "nbformat_minor": 4
}
