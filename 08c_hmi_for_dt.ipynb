{
 "cells": [
  {
   "cell_type": "markdown",
   "metadata": {},
   "source": [
    "# Communicate with your digital twin\n",
    "This is a KWH HMI which allows to communicate with the digital twin via S³I-B protocol and HTTP REST. All necessary modules are imported into the script, including the S³I library and ml40 reference implementation. This Notebook acts as an HMI in terms of the S³I and a client in terms of OAuth2 authentication.\n",
    "Just go to the Cell drop-down menu and click on the Run All button."
   ]
  },
  {
   "cell_type": "code",
   "execution_count": null,
   "metadata": {},
   "outputs": [],
   "source": [
    "import s3i\n",
    "import json\n",
    "import getpass\n",
    "import uuid\n",
    "from tools import print_with_timestamp, yes, no\n",
    "from ml.tools import find_broker_endpoint, make_thing_config, load_config, make_feature_config\n",
    "from ml.dt_factory import create_dt_ref, build_feature\n",
    "from ml.app_logger import setup_logger"
   ]
  },
  {
   "cell_type": "markdown",
   "metadata": {},
   "source": [
    "## Configure the notebook\n",
    "In order to assign this notebook to your private HMI it needs a client id and the respective secret to authenticate itself. In the following input fields, you can enter the id and the secret of your HMI."
   ]
  },
  {
   "cell_type": "code",
   "execution_count": null,
   "metadata": {},
   "outputs": [],
   "source": [
    "print_with_timestamp(\"Assign a client to this notebook. (The id of your HMI)\")\n",
    "hmi_id = input('[S3I]: Please enter your HMI id:').strip(',\" ')\n",
    "hmi_secret = getpass.getpass('[S3I]: Please enter your HMI secret:').strip(',\" ')\n",
    "print_with_timestamp(\"HMI id and secret are set.\")"
   ]
  },
  {
   "cell_type": "markdown",
   "metadata": {},
   "source": [
    "Next, you have to enter your username and password to authenticate yourself in S³I. "
   ]
  },
  {
   "cell_type": "code",
   "execution_count": null,
   "metadata": {},
   "outputs": [],
   "source": [
    "print_with_timestamp(\"This is a KWH HMI, please log in!\")\n",
    "username = input('[S3I]: Please enter your username:').strip(',\" ')\n",
    "password = getpass.getpass('[S3I]: Please enter the password:')\n",
    "print_with_timestamp(\"Your username and password are set.\")"
   ]
  },
  {
   "cell_type": "markdown",
   "metadata": {},
   "source": [
    "## Build and load the HMI JSON file \n",
    "Same as the digital twin, a HMI can also be created and launched using fml40 reference implementation library after the setting of the user credentials. All defined fml40 roles, functionalities and values etc. are respectively modelled according to the fml40 language. Next, you can create a JSON file which can be loaded to build a HMI reference."
   ]
  },
  {
   "cell_type": "code",
   "execution_count": null,
   "metadata": {},
   "outputs": [],
   "source": [
    "hmi_name = \"my HMI\"\n",
    "config_file_name = make_thing_config(dt_id=hmi_id, name=hmi_name, roles=[{\"class\": \"ml40::HMI\"}])\n",
    "hmi_model = load_config('configs/{}'.format(config_file_name))\n",
    "hmi = create_dt_ref(model=hmi_model, grant_type=\"password\", secret=hmi_secret,\n",
    "                        username=username, password=password, \n",
    "                        is_broker=True, is_repo=False, is_broker_rest=True)"
   ]
  },
  {
   "cell_type": "markdown",
   "metadata": {},
   "source": [
    "## Setup a looger for the HMI"
   ]
  },
  {
   "cell_type": "code",
   "execution_count": null,
   "metadata": {},
   "outputs": [],
   "source": [
    "setup_logger(hmi_name)"
   ]
  },
  {
   "cell_type": "markdown",
   "metadata": {},
   "source": [
    "## Run the HMI \n",
    "The created HMI is going to be launched in the following step. When the run_forever function is called, the HMI reference is started, and meanwhile its listener is also started to receive the messages sent to it via S³I Broker. Additionally, you can specific the receiver, with whom it will communicate. "
   ]
  },
  {
   "cell_type": "code",
   "execution_count": null,
   "metadata": {},
   "outputs": [],
   "source": [
    "hmi.run_forever()\n",
    "receiver = input(\"[S³I]: Please enter the id of your digital twin: \")\n",
    "hmi_endpoint = find_broker_endpoint(hmi.dir, hmi_id)\n",
    "receiver_endpoint = find_broker_endpoint(hmi.dir, thing_id=receiver)"
   ]
  },
  {
   "cell_type": "markdown",
   "metadata": {},
   "source": [
    "## Get the thing entry of the digital twin"
   ]
  },
  {
   "cell_type": "code",
   "execution_count": null,
   "metadata": {},
   "outputs": [],
   "source": [
    "%%html\n",
    "<img src=\"harvester_images/dir.png\", width=500, height=500>"
   ]
  },
  {
   "cell_type": "code",
   "execution_count": null,
   "metadata": {},
   "outputs": [],
   "source": [
    "print_with_timestamp(\"The thing entry of the digital twin: \" + json.dumps(hmi.dir.queryThingIDBased(thingID=receiver), indent=2))"
   ]
  },
  {
   "cell_type": "markdown",
   "metadata": {},
   "source": [
    "## Get the cloud copy of the digital twin "
   ]
  },
  {
   "cell_type": "code",
   "execution_count": null,
   "metadata": {},
   "outputs": [],
   "source": [
    "%%html\n",
    "<img src=\"harvester_images/repo.png\", width=500, height=500>"
   ]
  },
  {
   "cell_type": "code",
   "execution_count": null,
   "metadata": {},
   "outputs": [],
   "source": [
    "print_with_timestamp(\"The cloud copy of the digital twin\" + json.dumps(hmi.repo.queryThingIDBased(thingID=receiver), indent=2))"
   ]
  },
  {
   "cell_type": "markdown",
   "metadata": {},
   "source": [
    "## Edit a felling job\n",
    "we use this HMI in the next steps to create a felling job and then send it to the created digital twin."
   ]
  },
  {
   "cell_type": "code",
   "execution_count": null,
   "metadata": {},
   "outputs": [],
   "source": [
    "subFeatures = [{\n",
    "            \"class\": \"fml40::Assortment\",\n",
    "            \"grade\": \"fl\",\n",
    "            \"name\": \"Stammholz Abschnitte\",\n",
    "            \"subFeatures\": [\n",
    "                {\n",
    "                    \"class\": \"fml40::ThicknessClass\",\n",
    "                    \"name\": \">\"\n",
    "                },\n",
    "                {\n",
    "                    \"class\": \"fml40::WoodQuality\",\n",
    "                    \"name\": \"B-C\"\n",
    "                },\n",
    "                {\n",
    "                    \"class\": \"fml40::HarvestingParameters\",\n",
    "                    \"cuttingLengths\": 20\n",
    "                },\n",
    "                {\n",
    "                    \"class\": \"fml40::TreeType\",\n",
    "                    \"name\": \"Spruce\",\n",
    "                    \"conifer\": True\n",
    "                },\n",
    "                {\n",
    "                    \"class\": \"fml40::HarvestedVolume\",\n",
    "                    \"volume\": 140\n",
    "                }\n",
    "            ]\n",
    "        }]\n",
    "feature_config_json = make_feature_config(class_name=\"fml40::FellingJob\", subFeatures=subFeatures)\n",
    "felling_job = build_feature(feature=feature_config_json)\n",
    "\n",
    "print_with_timestamp(\"Felling job created:\\n\" + json.dumps(felling_job.to_json(), indent=2))"
   ]
  },
  {
   "cell_type": "markdown",
   "metadata": {},
   "source": [
    "## Send a service request to your digital twin\n",
    "In the follow steps we will show you how to edit a S3I-B ServiceRequest to call a service function in your digital twin. As prepared you can ask your dt to accept the felling job, query the current status of your felling job and remove a felling job from your digital twin. Just go to drop menu to run this block again to repeat sending service request again. "
   ]
  },
  {
   "cell_type": "code",
   "execution_count": null,
   "metadata": {},
   "outputs": [],
   "source": [
    "def make_ser_param_type():\n",
    "    \"\"\"\n",
    "    This function is used to make the service parameters and type for a S³I-B service request\n",
    "    \"\"\"\n",
    "    while True:\n",
    "        service_type = input('[S3I]: What kind of service request would you like to choose? \\n<fml40::AcceptsFellingJobs/acceptJob> \\n<fml40::AcceptsFellingJobs/queryJobStatus> \\n<fml40::AcceptsFellingJobs/removeJob> \\n')\n",
    "        if \"fml40::AcceptsFellingJobs/acceptJob\" in service_type: \n",
    "            parameters = {\"job\": felling_job.to_json()}\n",
    "        elif \"fml40::AcceptsFellingJobs/queryJobStatus\" in service_type:\n",
    "            job_id = input(\"[S³I]: Please enter the job id to query the job status: \")\n",
    "            parameters={\"identifier\": job_id}\n",
    "        elif \"fml40::AcceptsFellingJobs/removeJob\" in service_type:\n",
    "            job_id = input(\"[S³I]: Please enter the job id to delete the job: \")\n",
    "            parameters={\"identifier\": job_id}\n",
    "        else:\n",
    "            print_with_timestamp(\"[S³I]: Error in service type, please rewrite it!\")\n",
    "            parameters = None\n",
    "        \n",
    "        if parameters is None:\n",
    "            continue\n",
    "        else:\n",
    "            return parameters, service_type\n",
    "        \n",
    "def prepare_service_req():\n",
    "    serv_req = s3i.messages.ServiceRequest()\n",
    "    parameters, service_type = make_ser_param_type()\n",
    "    serv_req.fillServiceRequest(\n",
    "        senderUUID=hmi_id, receiverUUID=[receiver], sender_endpoint=hmi_endpoint,\n",
    "        serviceType=service_type,\n",
    "        parameters=parameters,\n",
    "        msgUUID=\"s3i:{}\".format(uuid.uuid4())\n",
    "    )\n",
    "    return serv_req.msg\n",
    "\n",
    "resp = hmi.broker.send([receiver_endpoint], json.dumps(prepare_service_req()))\n",
    "while True: \n",
    "    send_serv_again = input(\"[S3I]: Do you want to send a service request again(j/n): \")\n",
    "    if send_serv_again in yes:\n",
    "        resp = hmi.broker.send([receiver_endpoint], json.dumps(prepare_service_req()))\n",
    "    elif send_serv_again in no:\n",
    "        break"
   ]
  },
  {
   "cell_type": "code",
   "execution_count": null,
   "metadata": {},
   "outputs": [],
   "source": []
  },
  {
   "cell_type": "markdown",
   "metadata": {},
   "source": [
    "## Send a get value request to your digital twin\n",
    "In addition, the created digital twin is supposed to handle a get value request. As below we prepare and send a get value request to the digital twin and wait for the response. "
   ]
  },
  {
   "cell_type": "code",
   "execution_count": null,
   "metadata": {},
   "outputs": [],
   "source": [
    "getv_req = s3i.GetValueRequest()\n",
    "path = input(\"[S³I]: Please enter the attribute path that you want to query: \\ne.g. [] \\n[attributes/features/ml40::Composite/targets/ml40::Engine/features/ml40::RotationalSpeed/rpm] \")\n",
    "getv_req.fillGetValueRequest(\n",
    "    senderUUID=hmi_id, receiverUUID=[receiver], sender_endpoint=hmi_endpoint,\n",
    "    attributePath=path, msgUUID=\"s3i:{}\".format(uuid.uuid4())\n",
    "\n",
    ")\n",
    "receiver_endpoint = find_broker_endpoint(hmi.dir, thing_id=receiver)\n",
    "resp = hmi.broker.send([receiver_endpoint], json.dumps(getv_req.msg))"
   ]
  }
 ],
 "metadata": {
  "kernelspec": {
   "display_name": "Python 3",
   "language": "python",
   "name": "python3"
  },
  "language_info": {
   "codemirror_mode": {
    "name": "ipython",
    "version": 3
   },
   "file_extension": ".py",
   "mimetype": "text/x-python",
   "name": "python",
   "nbconvert_exporter": "python",
   "pygments_lexer": "ipython3",
   "version": "3.7.6"
  }
 },
 "nbformat": 4,
 "nbformat_minor": 4
}
