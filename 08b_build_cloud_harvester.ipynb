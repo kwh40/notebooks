{
 "cells": [
  {
   "cell_type": "markdown",
   "metadata": {},
   "source": [
    "# Launch your digital twin: Cloud harvester\n",
    "This is a KWH notebook which is regarded as a run-time environment for a emulated asset of harvester. The corresponding digital twin lives in the S³I Repository, whose configurtion file was created with the notebook 08a and stored in the folder configs.The emulated asset will automatically connect to S³I and has **no S³I-B endpoint** to receive S³I-B messages.\n",
    "Just go to the **Cell** drop-down menu and use the **Run All** button."
   ]
  },
  {
   "cell_type": "markdown",
   "metadata": {},
   "source": [
    "First, all necessary modules are imported into the script, including the S³I and modelling language library."
   ]
  },
  {
   "cell_type": "code",
   "execution_count": null,
   "metadata": {},
   "outputs": [],
   "source": [
    "import s3i\n",
    "import time \n",
    "import os \n",
    "import json\n",
    "import ml\n",
    "import logging\n",
    "from tools import print_with_timestamp, yes, no"
   ]
  },
  {
   "cell_type": "code",
   "execution_count": null,
   "metadata": {},
   "outputs": [],
   "source": [
    "%%html\n",
    "<img src=\"harvester_images/folie_1_2.png\", width=1000, height=1000>"
   ]
  },
  {
   "cell_type": "markdown",
   "metadata": {},
   "source": [
    "## Load the configuration file "
   ]
  },
  {
   "cell_type": "code",
   "execution_count": null,
   "metadata": {},
   "outputs": [],
   "source": [
    "thing_name = input(\"[S³I]: Please enter the name of your harvester (my_cloud_harvester): \")\n",
    "config_file_name = \"{}.json\".format(thing_name)\n",
    "config_path = os.path.abspath(os.path.join(\"\", \"configs\"))\n",
    "thing_model = ml.load_config(config_filepath=os.path.join(config_path, config_file_name))\n",
    "print_with_timestamp(\"The fml40 model of the created harvester in the form of JSON: \" + json.dumps(thing_model, indent=2))"
   ]
  },
  {
   "cell_type": "markdown",
   "metadata": {},
   "source": [
    "## Set up a logger"
   ]
  },
  {
   "cell_type": "code",
   "execution_count": null,
   "metadata": {},
   "outputs": [],
   "source": [
    "ml.setup_logger(thing_model[\"attributes\"].get(\"name\", None))"
   ]
  },
  {
   "cell_type": "markdown",
   "metadata": {},
   "source": [
    "## Build the digital twin\n",
    "The construction of the digital twin is based on the configuration file created previously. Features, roles and another relevant entries, which are configured in the configuration file, will be instantiated with the resptive object of the fml40 library. "
   ]
  },
  {
   "cell_type": "code",
   "execution_count": null,
   "metadata": {},
   "outputs": [],
   "source": [
    "%%html\n",
    "<img src=\"harvester_images/cloud_dt.png\", width=1000, height=1000>"
   ]
  },
  {
   "cell_type": "code",
   "execution_count": null,
   "metadata": {},
   "outputs": [],
   "source": [
    "cred_filepath = os.path.join(config_path, \"{}_cred.json\".format(thing_name))\n",
    "with open(cred_filepath) as file:\n",
    "    cred = json.load(file)\n",
    "    \n",
    "thing = ml.create_thing(\n",
    "                     model=thing_model, grant_type=\"client_credentials\", \n",
    "                     secret=cred.get(\"secret\"),\n",
    "                     is_broker=False, is_repo=True\n",
    "                    )"
   ]
  },
  {
   "cell_type": "markdown",
   "metadata": {},
   "source": [
    "We offer hereby a pre-defined simulate function, which simulates the rpm changing of harvester. The current rpm will be uploaded into the repo entry of the digital twin stored in the S³I Repository"
   ]
  },
  {
   "cell_type": "code",
   "execution_count": null,
   "metadata": {},
   "outputs": [],
   "source": [
    "def emulate_rpm():\n",
    "    \"\"\"\n",
    "    This function emulates how the rpm value of the engine changes between 2000 to 2500 U/min. \n",
    "    \"\"\"\n",
    "    tank = \"up\"\n",
    "\n",
    "    while True:\n",
    "        if tank == \"down\":\n",
    "            __new_rpm = thing.features[\"ml40::RotationalSpeed\"].rpm - 10\n",
    "            if __new_rpm < 2000:\n",
    "                tank = \"up\"\n",
    "\n",
    "        elif tank == \"up\":\n",
    "            __new_rpm = thing.features[\"ml40::RotationalSpeed\"].rpm + 10\n",
    "            if __new_rpm > 2500:\n",
    "                tank = \"down\"\n",
    "        thing.features[\"ml40::RotationalSpeed\"].rpm = __new_rpm\n",
    "        time.sleep(1)"
   ]
  },
  {
   "cell_type": "markdown",
   "metadata": {},
   "source": [
    "Insert the class and function into the instance of the asset."
   ]
  },
  {
   "cell_type": "code",
   "execution_count": null,
   "metadata": {},
   "outputs": [],
   "source": [
    "thing.add_user_def(func=emulate_rpm)"
   ]
  },
  {
   "cell_type": "markdown",
   "metadata": {},
   "source": [
    "## Launch the thing\n",
    "The thing is then started and connect to S³I automatically. It will firstly authenticate itself at the S³I IdentityProvider. The thing has a directory entry in the S³I Directory and a repository entry stored in the S³I Repository, which is synchronized with the emulated rpm value."
   ]
  },
  {
   "cell_type": "code",
   "execution_count": null,
   "metadata": {},
   "outputs": [],
   "source": [
    "thing.run_forever()\n",
    "while True:\n",
    "    i = input(\"[S³I]: End the debug outputs? (j/n)\")\n",
    "    if i in yes:\n",
    "        break\n",
    "    elif i in no:\n",
    "        continue"
   ]
  }
 ],
 "metadata": {
  "kernelspec": {
   "display_name": "Python 3",
   "language": "python",
   "name": "python3"
  },
  "language_info": {
   "codemirror_mode": {
    "name": "ipython",
    "version": 3
   },
   "file_extension": ".py",
   "mimetype": "text/x-python",
   "name": "python",
   "nbconvert_exporter": "python",
   "pygments_lexer": "ipython3",
   "version": "3.7.6"
  }
 },
 "nbformat": 4,
 "nbformat_minor": 4
}
