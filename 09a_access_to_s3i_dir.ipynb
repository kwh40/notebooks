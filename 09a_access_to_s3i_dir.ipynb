{
 "cells": [
  {
   "cell_type": "markdown",
   "metadata": {},
   "source": [
    "# Access to S³I Directory\n",
    "This Jupyter Notebook allows to query JSON entries with diverse filters in the S³I Directory. The communication is executed via HTTP REST. Enter the id of your notebook with the corresponding secret as in this script to make this notebook to your private application. In case of problems please feel free to contact the S³I team (s3i@kwh40.de).\n",
    "Just go to the **Cell** drop-down menu and use the **Run All** button."
   ]
  },
  {
   "cell_type": "code",
   "execution_count": null,
   "metadata": {},
   "outputs": [],
   "source": [
    "import s3i\n",
    "import json\n",
    "import uuid\n",
    "import jwt\n",
    "import time\n",
    "import os\n",
    "import base64\n",
    "import getpass\n",
    "import requests\n",
    "import collections\n",
    "from IPython.display import Image\n",
    "from tools import print_with_timestamp, check_message_encryption, yes, no"
   ]
  },
  {
   "cell_type": "markdown",
   "metadata": {},
   "source": [
    "## Configure the notebook\n",
    "In order to send HTTP Request to the S³I Directory, we need to pack an access token into the HTTP Header, which is issued in the S³I IdentityProvider. Enter the id and the secret of your notebook in the following input fields to query an access token. "
   ]
  },
  {
   "cell_type": "code",
   "execution_count": null,
   "metadata": {},
   "outputs": [],
   "source": [
    "print_with_timestamp(\"Assign a client to this notebook.\")\n",
    "client_id = input('[S3I]: Please enter your client id:').strip(',\" ')\n",
    "client_secret = getpass.getpass('[S3I]: Please enter your client secret:').strip(',\" ')\n",
    "print_with_timestamp(\"Notebook id and secret are set\")"
   ]
  },
  {
   "cell_type": "markdown",
   "metadata": {},
   "source": [
    "Next, you have to enter your username and password. With your access data a token is requested which authorizes this client to access to the S³I Directory. "
   ]
  },
  {
   "cell_type": "code",
   "execution_count": null,
   "metadata": {},
   "outputs": [],
   "source": [
    "username = input('[S3I]: Please enter your username:').strip(',\" ')\n",
    "password = getpass.getpass('[S3I]: Please enter the password:')\n",
    "print_with_timestamp(\"Your credentials are sent to S³I IdentityProvider.\")\n",
    "s3i_identity_provider = s3i.IdentityProvider(grant_type='password', \n",
    "                                             identity_provider_url=\"https://idp.s3i.vswf.dev/\",\n",
    "                                             realm='KWH',\n",
    "                                             client_id=client_id,\n",
    "                                             client_secret=client_secret,\n",
    "                                             username=username,\n",
    "                                             password=password)\n",
    "\"\"\"Get the access token \"\"\"\n",
    "access_token = s3i_identity_provider.get_token(s3i.TokenType.ACCESS_TOKEN)\n",
    "\n",
    "''' decode the access token\n",
    "'''\n",
    "parsed_username = jwt.decode(access_token, verify=False)[\n",
    "    \"preferred_username\"]\n",
    "\n",
    "print_with_timestamp(\"Token received, \" + parsed_username + \" logged in.\")\n"
   ]
  },
  {
   "cell_type": "markdown",
   "metadata": {},
   "source": [
    "After the token is issued and received, you can use it to authenticate yourself in the S³I Directory. As next, we instantiate a S³I Directory object using the S³I Python Lib."
   ]
  },
  {
   "cell_type": "code",
   "execution_count": null,
   "metadata": {},
   "outputs": [],
   "source": [
    "s3i_dir = s3i.Directory(\"https://dir.s3i.vswf.dev/api/2/\", token=access_token)"
   ]
  },
  {
   "cell_type": "markdown",
   "metadata": {},
   "source": [
    "## List all JSON entries"
   ]
  },
  {
   "cell_type": "code",
   "execution_count": null,
   "metadata": {},
   "outputs": [],
   "source": [
    "def list_all():\n",
    "    return s3i_dir.searchAll()[\"items\"]\n",
    "    "
   ]
  },
  {
   "cell_type": "markdown",
   "metadata": {},
   "source": [
    "## Search with Type filter"
   ]
  },
  {
   "cell_type": "code",
   "execution_count": null,
   "metadata": {},
   "outputs": [],
   "source": [
    "def list_typed():\n",
    "    my_type = input(\"[S³I]: Please enter the fml40 specified type (component, hmi ... ): \")\n",
    "    return s3i_dir.queryAttributeBased(key=\"type\", value=my_type)\n"
   ]
  },
  {
   "cell_type": "markdown",
   "metadata": {},
   "source": [
    "## Searched with name filter"
   ]
  },
  {
   "cell_type": "code",
   "execution_count": null,
   "metadata": {},
   "outputs": [],
   "source": [
    "def list_named():\n",
    "    my_name = input(\"[S³I]: Please enter the name of your thing: \")\n",
    "    return s3i_dir.queryAttributeBased(key=\"name\", value=my_name)"
   ]
  },
  {
   "cell_type": "markdown",
   "metadata": {},
   "source": [
    "## Searched by owner filter"
   ]
  },
  {
   "cell_type": "code",
   "execution_count": null,
   "metadata": {},
   "outputs": [],
   "source": [
    "def list_owned():\n",
    "    owner = input(\"[S³I]: Please enter the owner: \")\n",
    "    res = requests.get(url=\"https://config.s3i.vswf.dev/persons/{}\".format(owner),\n",
    "                       headers={\"Authorization\": \"Bearer {}\".format(access_token)})\n",
    "    if res.status_code == 200:\n",
    "        owner_uuid = res.json()[\"personIdentity\"][\"identifier\"]\n",
    "    else:\n",
    "        print(\"[S³I]: Can not find the user {} in S³I IdentityProvider!\".format(owner))\n",
    "        return\n",
    "    return s3i_dir.queryAttributeBased(key=\"ownedBy\", value=owner_uuid)"
   ]
  },
  {
   "cell_type": "markdown",
   "metadata": {},
   "source": [
    "## Loop for send REST request with filter\n",
    "In the loop below, you can send a HTTP REST Request with the choosen filter. We actually provide 4 types of filter, If necessary this can be supplemented. In case that the access token expires, you should re-run the whole notebook to obtain the valid access token.  "
   ]
  },
  {
   "cell_type": "code",
   "execution_count": null,
   "metadata": {},
   "outputs": [],
   "source": [
    "while True:\n",
    "    filter = input(\"[S³I]: Please enter what kind of filter you want to use: \\n-1: No filter \\n-2: Type filter \\n-3: Name filter \\n-4: Owner filter\")\n",
    "    if filter == \"1\":\n",
    "        json_res = list_all()\n",
    "    elif filter == \"2\":\n",
    "        json_res = list_typed()\n",
    "    elif filter == \"3\":\n",
    "        json_res = list_named()\n",
    "    elif filter == \"4\":\n",
    "        json_res = list_owned()\n",
    "    else:\n",
    "        continue\n",
    "    if isinstance(json_res, dict):\n",
    "        print_with_timestamp(\"searched {} JSON entries: {}\".format(len(json_res), json.dumps(json_res, indent=2)))"
   ]
  }
 ],
 "metadata": {
  "kernelspec": {
   "display_name": "Python 3",
   "language": "python",
   "name": "python3"
  },
  "language_info": {
   "codemirror_mode": {
    "name": "ipython",
    "version": 3
   },
   "file_extension": ".py",
   "mimetype": "text/x-python",
   "name": "python",
   "nbconvert_exporter": "python",
   "pygments_lexer": "ipython3",
   "version": "3.7.6"
  }
 },
 "nbformat": 4,
 "nbformat_minor": 4
}
